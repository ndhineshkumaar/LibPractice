{
 "cells": [
  {
   "cell_type": "markdown",
   "id": "2f8911d6-0835-48e9-9e7b-ad18096e1eed",
   "metadata": {},
   "source": [
    "# Creating Array"
   ]
  },
  {
   "cell_type": "code",
   "execution_count": 1,
   "id": "275e5935-25b4-4b16-9600-300c24b987c7",
   "metadata": {},
   "outputs": [
    {
     "name": "stdout",
     "output_type": "stream",
     "text": [
      "Requirement already satisfied: numpy in d:\\python\\lib\\site-packages (2.1.1)\n",
      "Requirement already satisfied: seaborn in d:\\python\\lib\\site-packages (0.13.2)\n",
      "Requirement already satisfied: numpy!=1.24.0,>=1.20 in d:\\python\\lib\\site-packages (from seaborn) (2.1.1)\n",
      "Requirement already satisfied: pandas>=1.2 in d:\\python\\lib\\site-packages (from seaborn) (2.2.3)\n",
      "Requirement already satisfied: matplotlib!=3.6.1,>=3.4 in d:\\python\\lib\\site-packages (from seaborn) (3.10.0)\n",
      "Requirement already satisfied: contourpy>=1.0.1 in d:\\python\\lib\\site-packages (from matplotlib!=3.6.1,>=3.4->seaborn) (1.3.1)\n",
      "Requirement already satisfied: cycler>=0.10 in d:\\python\\lib\\site-packages (from matplotlib!=3.6.1,>=3.4->seaborn) (0.12.1)\n",
      "Requirement already satisfied: fonttools>=4.22.0 in d:\\python\\lib\\site-packages (from matplotlib!=3.6.1,>=3.4->seaborn) (4.55.3)\n",
      "Requirement already satisfied: kiwisolver>=1.3.1 in d:\\python\\lib\\site-packages (from matplotlib!=3.6.1,>=3.4->seaborn) (1.4.8)\n",
      "Requirement already satisfied: packaging>=20.0 in d:\\python\\lib\\site-packages (from matplotlib!=3.6.1,>=3.4->seaborn) (24.2)\n",
      "Requirement already satisfied: pillow>=8 in d:\\python\\lib\\site-packages (from matplotlib!=3.6.1,>=3.4->seaborn) (11.1.0)\n",
      "Requirement already satisfied: pyparsing>=2.3.1 in d:\\python\\lib\\site-packages (from matplotlib!=3.6.1,>=3.4->seaborn) (3.2.1)\n",
      "Requirement already satisfied: python-dateutil>=2.7 in d:\\python\\lib\\site-packages (from matplotlib!=3.6.1,>=3.4->seaborn) (2.9.0.post0)\n",
      "Requirement already satisfied: pytz>=2020.1 in d:\\python\\lib\\site-packages (from pandas>=1.2->seaborn) (2024.2)\n",
      "Requirement already satisfied: tzdata>=2022.7 in d:\\python\\lib\\site-packages (from pandas>=1.2->seaborn) (2024.2)\n",
      "Requirement already satisfied: six>=1.5 in d:\\python\\lib\\site-packages (from python-dateutil>=2.7->matplotlib!=3.6.1,>=3.4->seaborn) (1.17.0)\n",
      "Requirement already satisfied: matplotlib in d:\\python\\lib\\site-packages (3.10.0)\n",
      "Requirement already satisfied: contourpy>=1.0.1 in d:\\python\\lib\\site-packages (from matplotlib) (1.3.1)\n",
      "Requirement already satisfied: cycler>=0.10 in d:\\python\\lib\\site-packages (from matplotlib) (0.12.1)\n",
      "Requirement already satisfied: fonttools>=4.22.0 in d:\\python\\lib\\site-packages (from matplotlib) (4.55.3)\n",
      "Requirement already satisfied: kiwisolver>=1.3.1 in d:\\python\\lib\\site-packages (from matplotlib) (1.4.8)\n",
      "Requirement already satisfied: numpy>=1.23 in d:\\python\\lib\\site-packages (from matplotlib) (2.1.1)\n",
      "Requirement already satisfied: packaging>=20.0 in d:\\python\\lib\\site-packages (from matplotlib) (24.2)\n",
      "Requirement already satisfied: pillow>=8 in d:\\python\\lib\\site-packages (from matplotlib) (11.1.0)\n",
      "Requirement already satisfied: pyparsing>=2.3.1 in d:\\python\\lib\\site-packages (from matplotlib) (3.2.1)\n",
      "Requirement already satisfied: python-dateutil>=2.7 in d:\\python\\lib\\site-packages (from matplotlib) (2.9.0.post0)\n",
      "Requirement already satisfied: six>=1.5 in d:\\python\\lib\\site-packages (from python-dateutil>=2.7->matplotlib) (1.17.0)\n"
     ]
    }
   ],
   "source": [
    "!pip install numpy\n",
    "!pip install seaborn\n",
    "!pip install matplotlib"
   ]
  },
  {
   "cell_type": "code",
   "execution_count": 2,
   "id": "d4b6b1f5-8199-439d-b785-4ec7de362d51",
   "metadata": {},
   "outputs": [
    {
     "name": "stdout",
     "output_type": "stream",
     "text": [
      "[3 4 5 6 8]\n"
     ]
    }
   ],
   "source": [
    "import numpy as np\n",
    "n1= np.array([3,4,5,6,8])\n",
    "print(n1)"
   ]
  },
  {
   "cell_type": "code",
   "execution_count": 3,
   "id": "e7dd97be-4d39-4bd6-b222-c26cd67257e7",
   "metadata": {},
   "outputs": [
    {
     "name": "stdout",
     "output_type": "stream",
     "text": [
      "[[1 2 3 4]\n",
      " [5 6 7 8]]\n"
     ]
    }
   ],
   "source": [
    "n2 = np.array([[1,2,3,4],[5,6,7,8]])\n",
    "print(n2)"
   ]
  },
  {
   "cell_type": "code",
   "execution_count": 4,
   "id": "6a409f9f-25a0-4c7b-b312-0771fe069b09",
   "metadata": {},
   "outputs": [
    {
     "name": "stdout",
     "output_type": "stream",
     "text": [
      "[[0. 0. 0. 0. 0. 0. 0. 0. 0. 0.]\n",
      " [0. 0. 0. 0. 0. 0. 0. 0. 0. 0.]\n",
      " [0. 0. 0. 0. 0. 0. 0. 0. 0. 0.]\n",
      " [0. 0. 0. 0. 0. 0. 0. 0. 0. 0.]\n",
      " [0. 0. 0. 0. 0. 0. 0. 0. 0. 0.]\n",
      " [0. 0. 0. 0. 0. 0. 0. 0. 0. 0.]\n",
      " [0. 0. 0. 0. 0. 0. 0. 0. 0. 0.]\n",
      " [0. 0. 0. 0. 0. 0. 0. 0. 0. 0.]\n",
      " [0. 0. 0. 0. 0. 0. 0. 0. 0. 0.]\n",
      " [0. 0. 0. 0. 0. 0. 0. 0. 0. 0.]]\n"
     ]
    }
   ],
   "source": [
    "n3=np.zeros([10,10])\n",
    "print(n3)"
   ]
  },
  {
   "cell_type": "code",
   "execution_count": 5,
   "id": "5eefb869-3a74-4372-90e6-9290f3ac6a20",
   "metadata": {},
   "outputs": [
    {
     "name": "stdout",
     "output_type": "stream",
     "text": [
      "[[0 0 0 0 0 0 0 0 0 0]\n",
      " [0 0 0 0 0 0 0 0 0 0]\n",
      " [0 0 0 0 0 0 0 0 0 0]\n",
      " [0 0 0 0 0 0 0 0 0 0]\n",
      " [0 0 0 0 0 0 0 0 0 0]\n",
      " [0 0 0 0 0 0 0 0 0 0]\n",
      " [0 0 0 0 0 0 0 0 0 0]\n",
      " [0 0 0 0 0 0 0 0 0 0]\n",
      " [0 0 0 0 0 0 0 0 0 0]\n",
      " [0 0 0 0 0 0 0 0 0 0]]\n"
     ]
    }
   ],
   "source": [
    "n4=np.zeros([10,10],dtype=\"int32\")\n",
    "print(n4)"
   ]
  },
  {
   "cell_type": "code",
   "execution_count": 6,
   "id": "0fa1c755-17c0-40f8-a8af-8d6d67994986",
   "metadata": {
    "scrolled": true
   },
   "outputs": [
    {
     "name": "stdout",
     "output_type": "stream",
     "text": [
      "[[[1 1]\n",
      "  [1 1]]\n",
      "\n",
      " [[1 1]\n",
      "  [1 1]]\n",
      "\n",
      " [[1 1]\n",
      "  [1 1]]\n",
      "\n",
      " [[1 1]\n",
      "  [1 1]]\n",
      "\n",
      " [[1 1]\n",
      "  [1 1]]\n",
      "\n",
      " [[1 1]\n",
      "  [1 1]]\n",
      "\n",
      " [[1 1]\n",
      "  [1 1]]\n",
      "\n",
      " [[1 1]\n",
      "  [1 1]]\n",
      "\n",
      " [[1 1]\n",
      "  [1 1]]\n",
      "\n",
      " [[1 1]\n",
      "  [1 1]]]\n"
     ]
    }
   ],
   "source": [
    "n5=np.ones([10,2,2],dtype=\"int32\")\n",
    "print(n5)"
   ]
  },
  {
   "cell_type": "code",
   "execution_count": 7,
   "id": "8f8ded1d-74be-49ef-bbe7-821ccfbf2765",
   "metadata": {},
   "outputs": [
    {
     "name": "stdout",
     "output_type": "stream",
     "text": [
      "[[[1668571469 1953701992]\n",
      "  [1735289202 1734418547]]\n",
      "\n",
      " [[1936615777 1768693876]\n",
      "  [1634887028 1634738284]]\n",
      "\n",
      " [[1919251572        110]\n",
      "  [         0          0]]]\n"
     ]
    }
   ],
   "source": [
    "n6=np.empty([3,2,2],dtype=\"int32\")\n",
    "print(n6)"
   ]
  },
  {
   "cell_type": "markdown",
   "id": "19e200de-1253-49fa-99fc-b39047cbd9df",
   "metadata": {},
   "source": [
    "# Arange and Linspace"
   ]
  },
  {
   "cell_type": "code",
   "execution_count": 8,
   "id": "2f2deea1-c28d-4088-98da-f5a780b6da6e",
   "metadata": {},
   "outputs": [
    {
     "name": "stdout",
     "output_type": "stream",
     "text": [
      "[0 1 2 3 4 5 6 7 8]\n"
     ]
    }
   ],
   "source": [
    "n7=np.arange(9)\n",
    "print(n7)"
   ]
  },
  {
   "cell_type": "code",
   "execution_count": 9,
   "id": "81e57598-a4ff-4b89-bb2f-2344759f7cfb",
   "metadata": {},
   "outputs": [
    {
     "name": "stdout",
     "output_type": "stream",
     "text": [
      "[ 0  0  1  2  2  3  4  4  5  6  6  7  8  8  9 10 11 11 12 13 13 14 15 15\n",
      " 16 17 17 18 19 20]\n"
     ]
    }
   ],
   "source": [
    "n8=np.linspace(0,20,num=30,dtype=\"int32\")\n",
    "print(n8)"
   ]
  },
  {
   "cell_type": "markdown",
   "id": "897ca51e-9c60-4d6e-ac1e-c60f0655406d",
   "metadata": {},
   "source": [
    "# Full and Fill"
   ]
  },
  {
   "cell_type": "code",
   "execution_count": 10,
   "id": "2858bd95-3eb7-4ea0-9ab7-07734ada2719",
   "metadata": {},
   "outputs": [
    {
     "name": "stdout",
     "output_type": "stream",
     "text": [
      "[[99 99 99]\n",
      " [99 99 99]]\n"
     ]
    }
   ],
   "source": [
    "n9=np.full([2,3],99)\n",
    "print(n9)"
   ]
  },
  {
   "cell_type": "code",
   "execution_count": 11,
   "id": "6cbaa4ab-b517-4372-ae58-31273e8814fc",
   "metadata": {},
   "outputs": [
    {
     "name": "stdout",
     "output_type": "stream",
     "text": [
      "[[[10 10]\n",
      "  [10 10]]\n",
      "\n",
      " [[10 10]\n",
      "  [10 10]]\n",
      "\n",
      " [[10 10]\n",
      "  [10 10]]]\n"
     ]
    }
   ],
   "source": [
    "n6.fill(10)\n",
    "print(n6)"
   ]
  },
  {
   "cell_type": "markdown",
   "id": "eff45436-2c59-4897-a5b4-3b6b34f8489f",
   "metadata": {},
   "source": [
    "# Accessing array elements"
   ]
  },
  {
   "cell_type": "code",
   "execution_count": 12,
   "id": "9835d140-61d6-4874-a570-01dc22186b8d",
   "metadata": {},
   "outputs": [
    {
     "name": "stdout",
     "output_type": "stream",
     "text": [
      "3\n"
     ]
    }
   ],
   "source": [
    "print(n1[0])"
   ]
  },
  {
   "cell_type": "code",
   "execution_count": 13,
   "id": "8a835e52-2c3e-4249-928e-79817f66b048",
   "metadata": {},
   "outputs": [
    {
     "name": "stdout",
     "output_type": "stream",
     "text": [
      "8\n"
     ]
    }
   ],
   "source": [
    "print(n1[-1])"
   ]
  },
  {
   "cell_type": "code",
   "execution_count": 14,
   "id": "cf403616-1586-4bb7-ab86-4482822042ff",
   "metadata": {},
   "outputs": [
    {
     "name": "stdout",
     "output_type": "stream",
     "text": [
      "8\n"
     ]
    }
   ],
   "source": [
    "print(n2[1,3])"
   ]
  },
  {
   "cell_type": "code",
   "execution_count": 15,
   "id": "50b5edb7-d557-4ae8-8e5b-170f236145fe",
   "metadata": {},
   "outputs": [
    {
     "name": "stdout",
     "output_type": "stream",
     "text": [
      "[1 2 3 4]\n"
     ]
    }
   ],
   "source": [
    "print(n2[0])"
   ]
  },
  {
   "cell_type": "code",
   "execution_count": 16,
   "id": "1759b21d-34f9-4488-aa2d-01f56c0d1323",
   "metadata": {},
   "outputs": [
    {
     "name": "stdout",
     "output_type": "stream",
     "text": [
      "[4 8]\n"
     ]
    }
   ],
   "source": [
    "print(n2[:,3])"
   ]
  },
  {
   "cell_type": "code",
   "execution_count": 17,
   "id": "78bb679e-f1c4-471c-81c1-24e39d0b3181",
   "metadata": {},
   "outputs": [
    {
     "name": "stdout",
     "output_type": "stream",
     "text": [
      "[[[ 1  1]\n",
      "  [ 1  1]]\n",
      "\n",
      " [[ 1  1]\n",
      "  [ 1 25]]\n",
      "\n",
      " [[ 1  1]\n",
      "  [ 1  1]]\n",
      "\n",
      " [[ 1  1]\n",
      "  [ 1  1]]\n",
      "\n",
      " [[ 1  1]\n",
      "  [ 1  1]]\n",
      "\n",
      " [[ 1  1]\n",
      "  [ 1  1]]\n",
      "\n",
      " [[ 1  1]\n",
      "  [ 1  1]]\n",
      "\n",
      " [[ 1  1]\n",
      "  [ 1  1]]\n",
      "\n",
      " [[ 1  1]\n",
      "  [ 1  1]]\n",
      "\n",
      " [[ 1  1]\n",
      "  [ 1  1]]]\n"
     ]
    }
   ],
   "source": [
    "n5[1,1,1]=25\n",
    "print(n5)"
   ]
  },
  {
   "cell_type": "markdown",
   "id": "4f46ba5e-cb06-4a41-83aa-bf43baa61de5",
   "metadata": {},
   "source": [
    "# Size and Shape"
   ]
  },
  {
   "cell_type": "code",
   "execution_count": 18,
   "id": "99212ce6-471d-4166-9269-8d2f6bcf206b",
   "metadata": {},
   "outputs": [
    {
     "name": "stdout",
     "output_type": "stream",
     "text": [
      "3\n",
      "1\n"
     ]
    }
   ],
   "source": [
    "print(n5.ndim)\n",
    "print(n1.ndim)"
   ]
  },
  {
   "cell_type": "code",
   "execution_count": 19,
   "id": "50c09409-2752-4d0c-98d0-01c09ce675df",
   "metadata": {},
   "outputs": [
    {
     "name": "stdout",
     "output_type": "stream",
     "text": [
      "(10, 2, 2)\n",
      "(5,)\n"
     ]
    }
   ],
   "source": [
    "print(n5.shape)\n",
    "print(n1.shape)"
   ]
  },
  {
   "cell_type": "code",
   "execution_count": 20,
   "id": "7e86d52a-a2ec-467a-8430-04d771182285",
   "metadata": {},
   "outputs": [
    {
     "name": "stdout",
     "output_type": "stream",
     "text": [
      "40\n"
     ]
    }
   ],
   "source": [
    "print(n5.size)"
   ]
  },
  {
   "cell_type": "code",
   "execution_count": 21,
   "id": "d7b2880d-ab04-4db0-8f79-19a650a7a643",
   "metadata": {},
   "outputs": [
    {
     "name": "stdout",
     "output_type": "stream",
     "text": [
      "int32\n"
     ]
    }
   ],
   "source": [
    "print(n5.dtype)"
   ]
  },
  {
   "cell_type": "code",
   "execution_count": 22,
   "id": "9853b4df-242f-4a42-907a-02b2b1c38730",
   "metadata": {},
   "outputs": [
    {
     "name": "stdout",
     "output_type": "stream",
     "text": [
      "4\n"
     ]
    }
   ],
   "source": [
    "print(n5.itemsize)"
   ]
  },
  {
   "cell_type": "code",
   "execution_count": 23,
   "id": "3d6fb84d-3777-4553-9469-d796fdbbe14f",
   "metadata": {},
   "outputs": [
    {
     "name": "stdout",
     "output_type": "stream",
     "text": [
      "160\n"
     ]
    }
   ],
   "source": [
    "print(n5.nbytes)"
   ]
  },
  {
   "cell_type": "markdown",
   "id": "b967258c-4dfa-4053-9c6f-d8d0e34b7523",
   "metadata": {},
   "source": [
    "# Sorting"
   ]
  },
  {
   "cell_type": "code",
   "execution_count": 24,
   "id": "4111b005-92bb-4ac4-9736-7f8f942c3d58",
   "metadata": {},
   "outputs": [
    {
     "data": {
      "text/plain": [
       "array([  1,   3,   5,   5,   5,   6,   7,  97, 566])"
      ]
     },
     "execution_count": 24,
     "metadata": {},
     "output_type": "execute_result"
    }
   ],
   "source": [
    "n10 = np.array([5,3,7,5,6,97,5,566,1])\n",
    "np.sort(n10)"
   ]
  },
  {
   "cell_type": "code",
   "execution_count": 25,
   "id": "9043f8db-d7ab-4b2a-bd2d-03cd667641f2",
   "metadata": {},
   "outputs": [
    {
     "data": {
      "text/plain": [
       "array([[1, 3, 8],\n",
       "       [2, 4, 6]])"
      ]
     },
     "execution_count": 25,
     "metadata": {},
     "output_type": "execute_result"
    }
   ],
   "source": [
    "n11=np.array([[3,1,8],[6,2,4]])\n",
    "np.sort(n11)"
   ]
  },
  {
   "cell_type": "code",
   "execution_count": 26,
   "id": "df115fed-bca3-4aa9-ab20-a0e5a85a0a81",
   "metadata": {},
   "outputs": [
    {
     "data": {
      "text/plain": [
       "array([[3, 1, 4],\n",
       "       [6, 2, 8]])"
      ]
     },
     "execution_count": 26,
     "metadata": {},
     "output_type": "execute_result"
    }
   ],
   "source": [
    "np.sort(n11,axis=0)"
   ]
  },
  {
   "cell_type": "markdown",
   "id": "d741b2fd-bb29-45dc-8d94-e6beda88fbda",
   "metadata": {},
   "source": [
    "# Reshaping and Array Conversion"
   ]
  },
  {
   "cell_type": "code",
   "execution_count": 27,
   "id": "c8a2e5c7-1bd8-4a2c-a375-11dbb2eba612",
   "metadata": {},
   "outputs": [
    {
     "name": "stdout",
     "output_type": "stream",
     "text": [
      "[  5   3   7   5   6  97   5 566   1]\n",
      "[[  5   3   7]\n",
      " [  5   6  97]\n",
      " [  5 566   1]]\n"
     ]
    }
   ],
   "source": [
    "n12=n10.reshape(3,3)\n",
    "print(n12.base)\n",
    "print(n12)"
   ]
  },
  {
   "cell_type": "code",
   "execution_count": 28,
   "id": "aba7e579-d82d-453c-96f0-8a24d9f52025",
   "metadata": {},
   "outputs": [
    {
     "name": "stdout",
     "output_type": "stream",
     "text": [
      "[0 1 2 3 5 6 7 8]\n"
     ]
    }
   ],
   "source": [
    "n13=np.arange(4)\n",
    "n14=np.arange(5,9)\n",
    "n15=np.concatenate((n13,n14))\n",
    "print(n15)"
   ]
  },
  {
   "cell_type": "code",
   "execution_count": 29,
   "id": "7c478f15-d926-4f0d-b14d-9a5e826ac340",
   "metadata": {},
   "outputs": [
    {
     "name": "stdout",
     "output_type": "stream",
     "text": [
      "[[0 1 2 3 4 5 6 7]]\n",
      "(1, 8)\n",
      "[[0]\n",
      " [1]\n",
      " [2]\n",
      " [3]\n",
      " [4]\n",
      " [5]\n",
      " [6]\n",
      " [7]]\n",
      "(8, 1)\n"
     ]
    }
   ],
   "source": [
    "n16=np.arange(8)\n",
    "n17=n16[np.newaxis,:]\n",
    "print(n17)\n",
    "print(n17.shape)\n",
    "n18=n16[:,np.newaxis]\n",
    "print(n18)\n",
    "print(n18.shape)"
   ]
  },
  {
   "cell_type": "code",
   "execution_count": 30,
   "id": "e1811628-d4be-49b3-a925-838f2b975fc6",
   "metadata": {},
   "outputs": [
    {
     "name": "stdout",
     "output_type": "stream",
     "text": [
      "[[0 1 2 3 4 5 6 7]]\n",
      "[[0]\n",
      " [1]\n",
      " [2]\n",
      " [3]\n",
      " [4]\n",
      " [5]\n",
      " [6]\n",
      " [7]]\n"
     ]
    }
   ],
   "source": [
    "n19=np.expand_dims(n16,axis=0)\n",
    "print(n19)\n",
    "n20=np.expand_dims(n16,axis=1)\n",
    "print(n20)"
   ]
  },
  {
   "cell_type": "markdown",
   "id": "1c331ddb-4f51-413d-ae17-911a7845cd86",
   "metadata": {},
   "source": [
    "# Indexing and Slicing"
   ]
  },
  {
   "cell_type": "code",
   "execution_count": 31,
   "id": "b474106b-0c38-412f-b7b9-40978be1a274",
   "metadata": {},
   "outputs": [
    {
     "name": "stdout",
     "output_type": "stream",
     "text": [
      "[0 1 2 3 4 5 6 7 8 9]\n",
      "[0 1 2 3 4]\n"
     ]
    }
   ],
   "source": [
    "n21=np.arange(10)\n",
    "print(n21)\n",
    "print(n21[n21<5])"
   ]
  },
  {
   "cell_type": "code",
   "execution_count": 32,
   "id": "7c869fd8-80ab-4c9b-90cf-9b50ae80b334",
   "metadata": {},
   "outputs": [
    {
     "name": "stdout",
     "output_type": "stream",
     "text": [
      "[4 5 6 7]\n"
     ]
    }
   ],
   "source": [
    "print(n21[(n21>3) & (n21<8)])"
   ]
  },
  {
   "cell_type": "code",
   "execution_count": 33,
   "id": "2cebfb11-14cb-4014-9a4d-fe7449ea04e2",
   "metadata": {},
   "outputs": [
    {
     "name": "stdout",
     "output_type": "stream",
     "text": [
      "[False False False False False False  True  True  True  True]\n",
      "[6 7 8 9]\n"
     ]
    }
   ],
   "source": [
    "fiveup=n21>5\n",
    "print(fiveup)\n",
    "print(n21[fiveup])"
   ]
  },
  {
   "cell_type": "code",
   "execution_count": 34,
   "id": "d8b83fe9-ccf5-40c7-b2ff-38bcc9f330cd",
   "metadata": {},
   "outputs": [
    {
     "name": "stdout",
     "output_type": "stream",
     "text": [
      "(array([6, 7, 8, 9], dtype=int64),)\n"
     ]
    }
   ],
   "source": [
    "print(np.nonzero(n21>5))"
   ]
  },
  {
   "cell_type": "code",
   "execution_count": 35,
   "id": "a2c61849-d0e7-491e-81de-a0772def9bc1",
   "metadata": {},
   "outputs": [
    {
     "name": "stdout",
     "output_type": "stream",
     "text": [
      "[3 4 5 6]\n"
     ]
    }
   ],
   "source": [
    "print(n21[3:7])"
   ]
  },
  {
   "cell_type": "markdown",
   "id": "115ee3f0-e305-415e-b772-1778042e15b5",
   "metadata": {},
   "source": [
    "# Stack and Split"
   ]
  },
  {
   "cell_type": "code",
   "execution_count": 36,
   "id": "a9c0d5cb-7b5e-4a07-9dd3-decfe3312005",
   "metadata": {},
   "outputs": [
    {
     "data": {
      "text/plain": [
       "array([[1, 2, 5, 6],\n",
       "       [3, 4, 7, 8]])"
      ]
     },
     "execution_count": 36,
     "metadata": {},
     "output_type": "execute_result"
    }
   ],
   "source": [
    "n22=np.array([[1,2],[3,4]])\n",
    "n23=np.array([[5,6],[7,8]])\n",
    "np.hstack((n22,n23))"
   ]
  },
  {
   "cell_type": "code",
   "execution_count": 37,
   "id": "e9d29188-ab16-4abb-9124-34da86eaeb5e",
   "metadata": {},
   "outputs": [
    {
     "data": {
      "text/plain": [
       "array([[1, 2],\n",
       "       [3, 4],\n",
       "       [5, 6],\n",
       "       [7, 8]])"
      ]
     },
     "execution_count": 37,
     "metadata": {},
     "output_type": "execute_result"
    }
   ],
   "source": [
    "np.vstack((n22,n23))"
   ]
  },
  {
   "cell_type": "code",
   "execution_count": 38,
   "id": "c0afdf88-5fd2-4963-b47a-1bb0ebd85f17",
   "metadata": {},
   "outputs": [
    {
     "data": {
      "text/plain": [
       "[array([0, 1, 2, 3, 4]),\n",
       " array([5, 6, 7, 8, 9]),\n",
       " array([10, 11, 12, 13, 14]),\n",
       " array([15, 16, 17, 18, 19])]"
      ]
     },
     "execution_count": 38,
     "metadata": {},
     "output_type": "execute_result"
    }
   ],
   "source": [
    "n24=np.arange(20)\n",
    "np.hsplit(n24,4)"
   ]
  },
  {
   "cell_type": "code",
   "execution_count": 39,
   "id": "988fdc23-7a23-48ad-964d-8c192ec34c1d",
   "metadata": {},
   "outputs": [
    {
     "data": {
      "text/plain": [
       "[array([[1, 2, 3]]), array([[4, 5, 6]]), array([[7, 8, 9]])]"
      ]
     },
     "execution_count": 39,
     "metadata": {},
     "output_type": "execute_result"
    }
   ],
   "source": [
    "n25=np.array([[1,2,3],[4,5,6],[7,8,9]])\n",
    "np.vsplit(n25,3)"
   ]
  },
  {
   "cell_type": "markdown",
   "id": "80dfec40-2c9c-4664-8e78-3dfce750810a",
   "metadata": {},
   "source": [
    "# Copy"
   ]
  },
  {
   "cell_type": "code",
   "execution_count": 40,
   "id": "bb2aed4c-a542-413f-a7f2-fea071203b30",
   "metadata": {},
   "outputs": [
    {
     "name": "stdout",
     "output_type": "stream",
     "text": [
      "[ 0  1  2  3  4  5  6  7  8  9 10 11 12 13 14 15 16 17 18 19]\n",
      "[ 0 20  2  3  4  5  6  7  8  9 10 11 12 13 14 15 16 17 18 19]\n"
     ]
    }
   ],
   "source": [
    "n26=n24.copy()\n",
    "n26[1]=20\n",
    "print(f\"{n24}\\n{n26}\")"
   ]
  },
  {
   "cell_type": "markdown",
   "id": "d1c8e1e4-a9c2-44b4-91d5-7a573ad83930",
   "metadata": {},
   "source": [
    "# Math"
   ]
  },
  {
   "cell_type": "code",
   "execution_count": 41,
   "id": "c37d7e33-6e10-4da0-aec0-8abbf30ef117",
   "metadata": {},
   "outputs": [
    {
     "name": "stdout",
     "output_type": "stream",
     "text": [
      "[[1 2]\n",
      " [3 4]]\n",
      "[[5 6]\n",
      " [7 8]]\n",
      "[[ 6  8]\n",
      " [10 12]]\n"
     ]
    }
   ],
   "source": [
    "print(n22)\n",
    "print(n23)\n",
    "print(n22+n23)"
   ]
  },
  {
   "cell_type": "code",
   "execution_count": 42,
   "id": "9d47aaea-679a-4a73-94f6-98210fa1997d",
   "metadata": {},
   "outputs": [
    {
     "name": "stdout",
     "output_type": "stream",
     "text": [
      "[ 0 20  2  3  4  5  6  7  8  9 10 11 12 13 14 15 16 17 18 19]\n",
      "209\n"
     ]
    }
   ],
   "source": [
    "print(n26)\n",
    "print(n26.sum())"
   ]
  },
  {
   "cell_type": "code",
   "execution_count": 43,
   "id": "6ab89c30-d15f-4157-ba0c-58ab9fffe4b6",
   "metadata": {},
   "outputs": [
    {
     "name": "stdout",
     "output_type": "stream",
     "text": [
      "20\n"
     ]
    }
   ],
   "source": [
    "print(n26.max())"
   ]
  },
  {
   "cell_type": "code",
   "execution_count": 44,
   "id": "efda30b5-1cfd-4913-a158-5ad25abd9233",
   "metadata": {},
   "outputs": [
    {
     "name": "stdout",
     "output_type": "stream",
     "text": [
      "0\n"
     ]
    }
   ],
   "source": [
    "print(n26.min())"
   ]
  },
  {
   "cell_type": "code",
   "execution_count": 45,
   "id": "36920b82-7134-4089-8944-ad150f3064ec",
   "metadata": {},
   "outputs": [
    {
     "name": "stdout",
     "output_type": "stream",
     "text": [
      "[  0 200  20  30  40  50  60  70  80  90 100 110 120 130 140 150 160 170\n",
      " 180 190]\n",
      "2090\n"
     ]
    }
   ],
   "source": [
    "print(n26*10)\n",
    "print((n26*10).sum())"
   ]
  },
  {
   "cell_type": "code",
   "execution_count": 46,
   "id": "16ceaf5e-a25c-49a6-b236-b574fbb2136f",
   "metadata": {},
   "outputs": [
    {
     "name": "stdout",
     "output_type": "stream",
     "text": [
      "[ 1.          0.40808206 -0.41614684 -0.9899925  -0.65364362  0.28366219\n",
      "  0.96017029  0.75390225 -0.14550003 -0.91113026 -0.83907153  0.0044257\n",
      "  0.84385396  0.90744678  0.13673722 -0.75968791 -0.95765948 -0.27516334\n",
      "  0.66031671  0.98870462]\n"
     ]
    }
   ],
   "source": [
    "print(np.cos(n26))"
   ]
  },
  {
   "cell_type": "markdown",
   "id": "0349067a-b9ce-4dfe-9151-5d51dc5b0911",
   "metadata": {},
   "source": [
    "# Random Numbers"
   ]
  },
  {
   "cell_type": "code",
   "execution_count": 47,
   "id": "1735eceb-b0a9-4ed0-9514-e9a56dbbe0b2",
   "metadata": {},
   "outputs": [
    {
     "data": {
      "text/plain": [
       "array([[0.20479755, 0.20891614, 0.01013809],\n",
       "       [0.44222693, 0.01887097, 0.94638372],\n",
       "       [0.64908419, 0.866592  , 0.15519937]])"
      ]
     },
     "execution_count": 47,
     "metadata": {},
     "output_type": "execute_result"
    }
   ],
   "source": [
    "np.random.rand(3,3)"
   ]
  },
  {
   "cell_type": "code",
   "execution_count": 48,
   "id": "e40f3977-6d85-4959-bf13-6d99a9a393fe",
   "metadata": {},
   "outputs": [
    {
     "data": {
      "text/plain": [
       "array([[237, 928, 989],\n",
       "       [107, 377, 158],\n",
       "       [716,  23, 537]])"
      ]
     },
     "execution_count": 48,
     "metadata": {},
     "output_type": "execute_result"
    }
   ],
   "source": [
    "np.random.randint(1000,size=(3,3))"
   ]
  },
  {
   "cell_type": "code",
   "execution_count": 49,
   "id": "fad969d5-3cc7-45b2-8cda-ff1e47df391b",
   "metadata": {},
   "outputs": [
    {
     "name": "stdout",
     "output_type": "stream",
     "text": [
      "[0 7 8]\n"
     ]
    }
   ],
   "source": [
    "print(np.random.choice(n21,size=3))"
   ]
  },
  {
   "cell_type": "markdown",
   "id": "6051ffe1-c43b-490d-b92a-1fd5714faac1",
   "metadata": {},
   "source": [
    "# Version Check"
   ]
  },
  {
   "cell_type": "code",
   "execution_count": 50,
   "id": "a3d7a6ca-04cb-421b-b50f-37081c13435a",
   "metadata": {},
   "outputs": [
    {
     "name": "stdout",
     "output_type": "stream",
     "text": [
      "1.26.4\n"
     ]
    }
   ],
   "source": [
    "print(np.__version__)"
   ]
  },
  {
   "cell_type": "markdown",
   "id": "158ac9af-8493-4fc7-b6b3-dd7577d66a49",
   "metadata": {},
   "source": [
    "# Data Type"
   ]
  },
  {
   "cell_type": "code",
   "execution_count": 51,
   "id": "0f9c8870-57ee-449c-9aa1-7aba08dcdc71",
   "metadata": {},
   "outputs": [
    {
     "name": "stdout",
     "output_type": "stream",
     "text": [
      "int32\n"
     ]
    }
   ],
   "source": [
    "n27=np.array([1,2,3,4,5])\n",
    "print(n27.dtype)"
   ]
  },
  {
   "cell_type": "code",
   "execution_count": 52,
   "id": "a72c0063-0aff-4bf1-a44e-1eee3efe300a",
   "metadata": {},
   "outputs": [
    {
     "name": "stdout",
     "output_type": "stream",
     "text": [
      "<U1\n"
     ]
    }
   ],
   "source": [
    "n28=np.array([\"a\",\"b\",\"c\",\"d\"])\n",
    "print(n28.dtype) #Unicode String"
   ]
  },
  {
   "cell_type": "code",
   "execution_count": 53,
   "id": "2d3e7870-8968-451d-8bb6-0a7b643eb12b",
   "metadata": {},
   "outputs": [
    {
     "name": "stdout",
     "output_type": "stream",
     "text": [
      "|S1\n"
     ]
    }
   ],
   "source": [
    "n29=np.array([1,2,3,4,5],dtype=\"S\")\n",
    "print(n29.dtype)"
   ]
  },
  {
   "cell_type": "code",
   "execution_count": 54,
   "id": "1165e459-7dff-451d-94f8-95330706a33c",
   "metadata": {},
   "outputs": [
    {
     "name": "stdout",
     "output_type": "stream",
     "text": [
      "|S11\n"
     ]
    }
   ],
   "source": [
    "n30=n27.astype(\"S\")\n",
    "print(n30.dtype)"
   ]
  },
  {
   "cell_type": "markdown",
   "id": "c1d365cd-74a2-47ee-9bec-cd703f79a6c7",
   "metadata": {},
   "source": [
    "# Numpy Iterating\n"
   ]
  },
  {
   "cell_type": "code",
   "execution_count": 55,
   "id": "97a854bc-9307-428d-8ee0-c095aa3b99b6",
   "metadata": {},
   "outputs": [
    {
     "name": "stdout",
     "output_type": "stream",
     "text": [
      "1\n",
      "2\n",
      "3\n",
      "4\n",
      "5\n",
      "6\n",
      "7\n",
      "8\n",
      "9\n",
      "10\n",
      "11\n",
      "12\n"
     ]
    }
   ],
   "source": [
    "n31= np.array([[[1,2,3],[4,5,6],[7,8,9],[10,11,12]]])\n",
    "for x in np.nditer(n31):\n",
    "    print(x)"
   ]
  },
  {
   "cell_type": "code",
   "execution_count": 56,
   "id": "04158b27-a1b0-4d7d-ab4d-1b8029d142ae",
   "metadata": {},
   "outputs": [
    {
     "name": "stdout",
     "output_type": "stream",
     "text": [
      "b'0'\n",
      "b'1'\n",
      "b'2'\n",
      "b'3'\n"
     ]
    }
   ],
   "source": [
    "n32=np.arange(4)\n",
    "for x in np.nditer(n32,flags=[\"buffered\"],op_dtypes=\"S\"):\n",
    "    print(x)"
   ]
  },
  {
   "cell_type": "code",
   "execution_count": 57,
   "id": "cdb4fa6d-85b9-498c-bd28-e995b1371cef",
   "metadata": {},
   "outputs": [
    {
     "name": "stdout",
     "output_type": "stream",
     "text": [
      "(0, 0) 1\n",
      "(0, 1) 2\n",
      "(0, 2) 3\n",
      "(1, 0) 4\n",
      "(1, 1) 5\n",
      "(1, 2) 6\n"
     ]
    }
   ],
   "source": [
    "n33= np.array([[1,2,3],[4,5,6]])\n",
    "for idx,x in np.ndenumerate(n33):\n",
    "    print(idx,x)"
   ]
  },
  {
   "cell_type": "markdown",
   "id": "93847c15-a34b-45ad-98d3-dbbd87ced016",
   "metadata": {},
   "source": [
    "# Search\n"
   ]
  },
  {
   "cell_type": "code",
   "execution_count": 58,
   "id": "ca12e1ea-6d07-438d-aff1-5a5bbf95287c",
   "metadata": {},
   "outputs": [
    {
     "name": "stdout",
     "output_type": "stream",
     "text": [
      "(array([2, 3, 5], dtype=int64),)\n"
     ]
    }
   ],
   "source": [
    "n34= np.array([1,2,3,3,5,3,7,8,9])\n",
    "print(np.where(n34==3))"
   ]
  },
  {
   "cell_type": "markdown",
   "id": "6574e430-bf66-4edf-aaed-01ab43f07aa3",
   "metadata": {},
   "source": [
    "# Data Distribution"
   ]
  },
  {
   "cell_type": "code",
   "execution_count": 59,
   "id": "04694906-32aa-46ea-a899-13ef4a6ae859",
   "metadata": {},
   "outputs": [
    {
     "name": "stdout",
     "output_type": "stream",
     "text": [
      "[6 6 3 6 6 5 6 3 6 6 3 6 3 6 3 5 6 6 6 3 6 5 6 5 5 6 6 3 6 3 6 6 3 6 5 6 5\n",
      " 6 3 3 3 6 3 6 6 3 3 5 6 6]\n"
     ]
    }
   ],
   "source": [
    "n35=np.array([3,5,6,4])\n",
    "print(np.random.choice(n35,p=[0.3,0.1,0.6,0.0],size=50))"
   ]
  },
  {
   "cell_type": "markdown",
   "id": "c5a8741e-96f2-4a89-8d23-ad1ba46e7db3",
   "metadata": {},
   "source": [
    "# Permutation"
   ]
  },
  {
   "cell_type": "code",
   "execution_count": 60,
   "id": "bce3618a-d5a2-4307-9d78-e24d34d44a53",
   "metadata": {},
   "outputs": [
    {
     "name": "stdout",
     "output_type": "stream",
     "text": [
      "None\n",
      "[5 2 4 7 1 8 3 0 6]\n"
     ]
    }
   ],
   "source": [
    "n36=np.arange(9)\n",
    "print(np.random.shuffle(n36))\n",
    "print(n36)"
   ]
  },
  {
   "cell_type": "code",
   "execution_count": 61,
   "id": "35f78e2a-f6a4-4b28-8971-d4b86da4a6ca",
   "metadata": {},
   "outputs": [
    {
     "name": "stdout",
     "output_type": "stream",
     "text": [
      "[5 0 8 7 4 2 3 1 6]\n"
     ]
    }
   ],
   "source": [
    "n37=np.arange(9)\n",
    "print(np.random.permutation(n37))"
   ]
  },
  {
   "cell_type": "markdown",
   "id": "92068065-2e71-4c1b-b599-beea1d3678c6",
   "metadata": {},
   "source": [
    "# Seaborn"
   ]
  },
  {
   "cell_type": "code",
   "execution_count": 62,
   "id": "6b40ab6d-854b-45cf-bcb8-5df7536dc3ad",
   "metadata": {},
   "outputs": [],
   "source": [
    "import seaborn as sns\n",
    "import matplotlib.pyplot as plt"
   ]
  },
  {
   "cell_type": "code",
   "execution_count": 63,
   "id": "e0a1c16e-027f-4c61-bb12-4c8b1b893dcd",
   "metadata": {},
   "outputs": [
    {
     "name": "stderr",
     "output_type": "stream",
     "text": [
      "C:\\Users\\dhine\\AppData\\Local\\Temp\\ipykernel_9620\\3934216880.py:1: UserWarning: \n",
      "\n",
      "`distplot` is a deprecated function and will be removed in seaborn v0.14.0.\n",
      "\n",
      "Please adapt your code to use either `displot` (a figure-level function with\n",
      "similar flexibility) or `histplot` (an axes-level function for histograms).\n",
      "\n",
      "For a guide to updating your code to use the new functions, please see\n",
      "https://gist.github.com/mwaskom/de44147ed2974457ad6372750bbe5751\n",
      "\n",
      "  sns.distplot(n37,hist=True)\n"
     ]
    },
    {
     "data": {
      "image/png": "[encoded data removed]",
      "text/plain": [
       "<Figure size 640x480 with 1 Axes>"
      ]
     },
     "metadata": {},
     "output_type": "display_data"
    }
   ],
   "source": [
    "sns.distplot(n37,hist=True)\n",
    "plt.show()"
   ]
  },
  {
   "cell_type": "markdown",
   "id": "4f053db1-37ff-4857-8b64-21d12f7fb4e2",
   "metadata": {},
   "source": [
    "# Math"
   ]
  },
  {
   "cell_type": "code",
   "execution_count": 64,
   "id": "16d4e3e5-2f93-4c6c-a72c-10e729d65452",
   "metadata": {},
   "outputs": [
    {
     "name": "stdout",
     "output_type": "stream",
     "text": [
      "[[-4.39550549  3.66982283]\n",
      " [ 2.45685087  2.47707875]]\n"
     ]
    },
    {
     "name": "stderr",
     "output_type": "stream",
     "text": [
      "C:\\Users\\dhine\\AppData\\Local\\Temp\\ipykernel_9620\\3450381797.py:3: UserWarning: \n",
      "\n",
      "`distplot` is a deprecated function and will be removed in seaborn v0.14.0.\n",
      "\n",
      "Please adapt your code to use either `displot` (a figure-level function with\n",
      "similar flexibility) or `histplot` (an axes-level function for histograms).\n",
      "\n",
      "For a guide to updating your code to use the new functions, please see\n",
      "https://gist.github.com/mwaskom/de44147ed2974457ad6372750bbe5751\n",
      "\n",
      "  sns.distplot(n38,hist=True)\n"
     ]
    },
    {
     "data": {
      "image/png": "[encoded data removed]",
      "text/plain": [
       "<Figure size 640x480 with 1 Axes>"
      ]
     },
     "metadata": {},
     "output_type": "display_data"
    }
   ],
   "source": [
    "n38=np.random.normal(loc=2,scale=4,size=(2,2))\n",
    "print(n38)\n",
    "sns.distplot(n38,hist=True)\n",
    "plt.show()"
   ]
  },
  {
   "cell_type": "code",
   "execution_count": 65,
   "id": "d74d6471-c651-4485-b221-30b6a60deee6",
   "metadata": {},
   "outputs": [
    {
     "name": "stdout",
     "output_type": "stream",
     "text": [
      "[0 1 1 1 1 1 1 1 0 1 0 0 1 1 0 1 1 1 1 1]\n"
     ]
    },
    {
     "name": "stderr",
     "output_type": "stream",
     "text": [
      "C:\\Users\\dhine\\AppData\\Local\\Temp\\ipykernel_9620\\4109434326.py:3: UserWarning: \n",
      "\n",
      "`distplot` is a deprecated function and will be removed in seaborn v0.14.0.\n",
      "\n",
      "Please adapt your code to use either `displot` (a figure-level function with\n",
      "similar flexibility) or `histplot` (an axes-level function for histograms).\n",
      "\n",
      "For a guide to updating your code to use the new functions, please see\n",
      "https://gist.github.com/mwaskom/de44147ed2974457ad6372750bbe5751\n",
      "\n",
      "  sns.distplot(n39,hist=True)\n"
     ]
    },
    {
     "data": {
      "image/png": "[encoded data removed]",
      "text/plain": [
       "<Figure size 640x480 with 1 Axes>"
      ]
     },
     "metadata": {},
     "output_type": "display_data"
    }
   ],
   "source": [
    "n39=np.random.binomial(n=1,p=.8,size=20)\n",
    "print(n39)\n",
    "sns.distplot(n39,hist=True)\n",
    "plt.show()"
   ]
  },
  {
   "cell_type": "code",
   "execution_count": 66,
   "id": "05d19e1c-11e3-41b8-b826-fc1dbad9f887",
   "metadata": {},
   "outputs": [
    {
     "name": "stdout",
     "output_type": "stream",
     "text": [
      "[[1 1 2 1 1 0]\n",
      " [2 1 1 0 2 0]]\n"
     ]
    }
   ],
   "source": [
    "n40=np.random.multinomial(n=6,pvals=[1/6,1/6,1/6,1/6,1/6,1/6],size=2)\n",
    "print(n40)"
   ]
  },
  {
   "cell_type": "code",
   "execution_count": 67,
   "id": "0d685c5c-1c8f-40a6-b796-1bff7ce9a756",
   "metadata": {},
   "outputs": [
    {
     "name": "stdout",
     "output_type": "stream",
     "text": [
      "[0.19473125 0.08195237 2.77486719]\n"
     ]
    }
   ],
   "source": [
    "n41=np.random.exponential(scale=2,size=3)\n",
    "print(n41)"
   ]
  },
  {
   "cell_type": "code",
   "execution_count": 68,
   "id": "eb99114d-5ba7-4836-9a91-abeb9de399ba",
   "metadata": {},
   "outputs": [
    {
     "name": "stdout",
     "output_type": "stream",
     "text": [
      "[[0.83086833 0.47462681 0.41070771]\n",
      " [0.95683793 0.35645907 0.77016618]]\n"
     ]
    }
   ],
   "source": [
    "n42=np.random.uniform(size=(2,3))\n",
    "print(n42)"
   ]
  },
  {
   "cell_type": "code",
   "execution_count": 73,
   "id": "b57517e0-a7d8-4667-ae76-ed81494b1ec0",
   "metadata": {},
   "outputs": [
    {
     "name": "stdout",
     "output_type": "stream",
     "text": [
      "[-1.32620502  3.94141974]\n"
     ]
    },
    {
     "name": "stderr",
     "output_type": "stream",
     "text": [
      "C:\\Users\\dhine\\AppData\\Local\\Temp\\ipykernel_9620\\2060175472.py:3: UserWarning: \n",
      "\n",
      "`distplot` is a deprecated function and will be removed in seaborn v0.14.0.\n",
      "\n",
      "Please adapt your code to use either `displot` (a figure-level function with\n",
      "similar flexibility) or `histplot` (an axes-level function for histograms).\n",
      "\n",
      "For a guide to updating your code to use the new functions, please see\n",
      "https://gist.github.com/mwaskom/de44147ed2974457ad6372750bbe5751\n",
      "\n",
      "  sns.distplot(n43,hist=True)\n"
     ]
    },
    {
     "data": {
      "image/png": "[encoded data removed]",
      "text/plain": [
       "<Figure size 640x480 with 1 Axes>"
      ]
     },
     "metadata": {},
     "output_type": "display_data"
    }
   ],
   "source": [
    "n43=np.random.logistic(loc=2,scale=4,size=(2))\n",
    "print(n43)\n",
    "sns.distplot(n43,hist=True)\n",
    "plt.show()"
   ]
  },
  {
   "cell_type": "code",
   "execution_count": 74,
   "id": "7a68f4b9-2608-4898-a707-56b527235acc",
   "metadata": {},
   "outputs": [
    {
     "name": "stdout",
     "output_type": "stream",
     "text": [
      "[3 5 1 6 5 3 5 3 3 4]\n"
     ]
    },
    {
     "name": "stderr",
     "output_type": "stream",
     "text": [
      "C:\\Users\\dhine\\AppData\\Local\\Temp\\ipykernel_9620\\1955247396.py:3: UserWarning: \n",
      "\n",
      "`distplot` is a deprecated function and will be removed in seaborn v0.14.0.\n",
      "\n",
      "Please adapt your code to use either `displot` (a figure-level function with\n",
      "similar flexibility) or `histplot` (an axes-level function for histograms).\n",
      "\n",
      "For a guide to updating your code to use the new functions, please see\n",
      "https://gist.github.com/mwaskom/de44147ed2974457ad6372750bbe5751\n",
      "\n",
      "  sns.distplot(n44,hist=True)\n"
     ]
    },
    {
     "data": {
      "image/png": "[encoded data removed]",
      "text/plain": [
       "<Figure size 640x480 with 1 Axes>"
      ]
     },
     "metadata": {},
     "output_type": "display_data"
    }
   ],
   "source": [
    "n44=np.random.poisson(lam=4,size=(10))\n",
    "print(n44)\n",
    "sns.distplot(n44,hist=True)\n",
    "plt.show()"
   ]
  },
  {
   "cell_type": "markdown",
   "id": "a8c775a7-a9ab-4e27-b7e6-00c1a16533da",
   "metadata": {},
   "source": [
    "# Universal Function"
   ]
  },
  {
   "cell_type": "code",
   "execution_count": 79,
   "id": "d9635215-b7bf-48de-be91-56f35482ec24",
   "metadata": {},
   "outputs": [
    {
     "name": "stdout",
     "output_type": "stream",
     "text": [
      "[0 1 2 3 4]\n",
      "[5 6 7 8 9]\n",
      "[ 5  7  9 11 13]\n"
     ]
    }
   ],
   "source": [
    "n45=np.arange(5)\n",
    "n46=np.arange(5,10)\n",
    "n47=np.add(n45,n46)\n",
    "print(f\"{n45}\\n{n46}\\n{n47}\")"
   ]
  },
  {
   "cell_type": "code",
   "execution_count": 82,
   "id": "2755322b-9b89-4f23-876d-a768451a5b41",
   "metadata": {},
   "outputs": [
    {
     "name": "stdout",
     "output_type": "stream",
     "text": [
      "[5 7 9 11 13]\n"
     ]
    }
   ],
   "source": [
    "def myfunc(x,y):\n",
    "    return x+y\n",
    "\n",
    "ufunc=np.frompyfunc(myfunc,2,1)\n",
    "print(ufunc(n45,n46))"
   ]
  }
 ],
 "metadata": {
  "kernelspec": {
   "display_name": "Python 3 (ipykernel)",
   "language": "python",
   "name": "python3"
  },
  "language_info": {
   "codemirror_mode": {
    "name": "ipython",
    "version": 3
   },
   "file_extension": ".py",
   "mimetype": "text/x-python",
   "name": "python",
   "nbconvert_exporter": "python",
   "pygments_lexer": "ipython3",
   "version": "3.12.7"
  }
 },
 "nbformat": 4,
 "nbformat_minor": 5
}
