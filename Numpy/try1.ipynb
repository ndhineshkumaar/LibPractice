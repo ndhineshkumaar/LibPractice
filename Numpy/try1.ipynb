{
 "cells": [
  {
   "cell_type": "markdown",
   "id": "2f8911d6-0835-48e9-9e7b-ad18096e1eed",
   "metadata": {},
   "source": [
    "# Creating Array"
   ]
  },
  {
   "cell_type": "code",
   "execution_count": 1,
   "id": "275e5935-25b4-4b16-9600-300c24b987c7",
   "metadata": {},
   "outputs": [
    {
     "name": "stdout",
     "output_type": "stream",
     "text": [
      "Requirement already satisfied: numpy in d:\\python\\lib\\site-packages (2.1.1)\n"
     ]
    }
   ],
   "source": [
    "!pip install numpy"
   ]
  },
  {
   "cell_type": "code",
   "execution_count": 4,
   "id": "d4b6b1f5-8199-439d-b785-4ec7de362d51",
   "metadata": {},
   "outputs": [
    {
     "name": "stdout",
     "output_type": "stream",
     "text": [
      "[3 4 5 6 8]\n"
     ]
    }
   ],
   "source": [
    "import numpy as np\n",
    "n1= np.array([3,4,5,6,8])\n",
    "print(n1)"
   ]
  },
  {
   "cell_type": "code",
   "execution_count": 7,
   "id": "e7dd97be-4d39-4bd6-b222-c26cd67257e7",
   "metadata": {},
   "outputs": [
    {
     "name": "stdout",
     "output_type": "stream",
     "text": [
      "[[1 2 3 4]\n",
      " [5 6 7 8]]\n"
     ]
    }
   ],
   "source": [
    "n2 = np.array([[1,2,3,4],[5,6,7,8]])\n",
    "print(n2)"
   ]
  },
  {
   "cell_type": "code",
   "execution_count": 9,
   "id": "6a409f9f-25a0-4c7b-b312-0771fe069b09",
   "metadata": {},
   "outputs": [
    {
     "name": "stdout",
     "output_type": "stream",
     "text": [
      "[[0. 0. 0. 0. 0. 0. 0. 0. 0. 0.]\n",
      " [0. 0. 0. 0. 0. 0. 0. 0. 0. 0.]\n",
      " [0. 0. 0. 0. 0. 0. 0. 0. 0. 0.]\n",
      " [0. 0. 0. 0. 0. 0. 0. 0. 0. 0.]\n",
      " [0. 0. 0. 0. 0. 0. 0. 0. 0. 0.]\n",
      " [0. 0. 0. 0. 0. 0. 0. 0. 0. 0.]\n",
      " [0. 0. 0. 0. 0. 0. 0. 0. 0. 0.]\n",
      " [0. 0. 0. 0. 0. 0. 0. 0. 0. 0.]\n",
      " [0. 0. 0. 0. 0. 0. 0. 0. 0. 0.]\n",
      " [0. 0. 0. 0. 0. 0. 0. 0. 0. 0.]]\n"
     ]
    }
   ],
   "source": [
    "n3=np.zeros([10,10])\n",
    "print(n3)"
   ]
  },
  {
   "cell_type": "code",
   "execution_count": 12,
   "id": "5eefb869-3a74-4372-90e6-9290f3ac6a20",
   "metadata": {},
   "outputs": [
    {
     "name": "stdout",
     "output_type": "stream",
     "text": [
      "[[0 0 0 0 0 0 0 0 0 0]\n",
      " [0 0 0 0 0 0 0 0 0 0]\n",
      " [0 0 0 0 0 0 0 0 0 0]\n",
      " [0 0 0 0 0 0 0 0 0 0]\n",
      " [0 0 0 0 0 0 0 0 0 0]\n",
      " [0 0 0 0 0 0 0 0 0 0]\n",
      " [0 0 0 0 0 0 0 0 0 0]\n",
      " [0 0 0 0 0 0 0 0 0 0]\n",
      " [0 0 0 0 0 0 0 0 0 0]\n",
      " [0 0 0 0 0 0 0 0 0 0]]\n"
     ]
    }
   ],
   "source": [
    "n4=np.zeros([10,10],dtype=\"int32\")\n",
    "print(n4)"
   ]
  },
  {
   "cell_type": "code",
   "execution_count": 40,
   "id": "0fa1c755-17c0-40f8-a8af-8d6d67994986",
   "metadata": {
    "scrolled": true
   },
   "outputs": [
    {
     "name": "stdout",
     "output_type": "stream",
     "text": [
      "[[[1 1]\n",
      "  [1 1]]\n",
      "\n",
      " [[1 1]\n",
      "  [1 1]]\n",
      "\n",
      " [[1 1]\n",
      "  [1 1]]\n",
      "\n",
      " [[1 1]\n",
      "  [1 1]]\n",
      "\n",
      " [[1 1]\n",
      "  [1 1]]\n",
      "\n",
      " [[1 1]\n",
      "  [1 1]]\n",
      "\n",
      " [[1 1]\n",
      "  [1 1]]\n",
      "\n",
      " [[1 1]\n",
      "  [1 1]]\n",
      "\n",
      " [[1 1]\n",
      "  [1 1]]\n",
      "\n",
      " [[1 1]\n",
      "  [1 1]]]\n"
     ]
    }
   ],
   "source": [
    "n5=np.ones([10,2,2],dtype=\"int32\")\n",
    "print(n5)"
   ]
  },
  {
   "cell_type": "code",
   "execution_count": 26,
   "id": "8f8ded1d-74be-49ef-bbe7-821ccfbf2765",
   "metadata": {},
   "outputs": [
    {
     "name": "stdout",
     "output_type": "stream",
     "text": [
      "[[[4128860 6029375]\n",
      "  [7274573 7209077]]\n",
      "\n",
      " [[5242996 6881391]\n",
      "  [7602286 6357069]]\n",
      "\n",
      " [[6357102 6619239]\n",
      "  [    114 3407973]]]\n"
     ]
    }
   ],
   "source": [
    "n6=np.empty([3,2,2],dtype=\"int32\")\n",
    "print(n6)"
   ]
  },
  {
   "cell_type": "markdown",
   "id": "19e200de-1253-49fa-99fc-b39047cbd9df",
   "metadata": {},
   "source": [
    "# Arange and Linspace"
   ]
  },
  {
   "cell_type": "code",
   "execution_count": 19,
   "id": "2f2deea1-c28d-4088-98da-f5a780b6da6e",
   "metadata": {},
   "outputs": [
    {
     "name": "stdout",
     "output_type": "stream",
     "text": [
      "[0 1 2 3 4 5 6 7 8]\n"
     ]
    }
   ],
   "source": [
    "n7=np.arange(9)\n",
    "print(n7)"
   ]
  },
  {
   "cell_type": "code",
   "execution_count": 22,
   "id": "81e57598-a4ff-4b89-bb2f-2344759f7cfb",
   "metadata": {},
   "outputs": [
    {
     "name": "stdout",
     "output_type": "stream",
     "text": [
      "[ 0  0  1  2  2  3  4  4  5  6  6  7  8  8  9 10 11 11 12 13 13 14 15 15\n",
      " 16 17 17 18 19 20]\n"
     ]
    }
   ],
   "source": [
    "n8=np.linspace(0,20,num=30,dtype=\"int32\")\n",
    "print(n8)"
   ]
  },
  {
   "cell_type": "markdown",
   "id": "897ca51e-9c60-4d6e-ac1e-c60f0655406d",
   "metadata": {},
   "source": [
    "# Full and Fill"
   ]
  },
  {
   "cell_type": "code",
   "execution_count": 24,
   "id": "2858bd95-3eb7-4ea0-9ab7-07734ada2719",
   "metadata": {},
   "outputs": [
    {
     "name": "stdout",
     "output_type": "stream",
     "text": [
      "[[99 99 99]\n",
      " [99 99 99]]\n"
     ]
    }
   ],
   "source": [
    "n9=np.full([2,3],99)\n",
    "print(n9)"
   ]
  },
  {
   "cell_type": "code",
   "execution_count": 27,
   "id": "6cbaa4ab-b517-4372-ae58-31273e8814fc",
   "metadata": {},
   "outputs": [
    {
     "name": "stdout",
     "output_type": "stream",
     "text": [
      "[[[10 10]\n",
      "  [10 10]]\n",
      "\n",
      " [[10 10]\n",
      "  [10 10]]\n",
      "\n",
      " [[10 10]\n",
      "  [10 10]]]\n"
     ]
    }
   ],
   "source": [
    "n6.fill(10)\n",
    "print(n6)"
   ]
  },
  {
   "cell_type": "markdown",
   "id": "eff45436-2c59-4897-a5b4-3b6b34f8489f",
   "metadata": {},
   "source": [
    "# Accessing array elements"
   ]
  },
  {
   "cell_type": "code",
   "execution_count": 28,
   "id": "9835d140-61d6-4874-a570-01dc22186b8d",
   "metadata": {},
   "outputs": [
    {
     "name": "stdout",
     "output_type": "stream",
     "text": [
      "3\n"
     ]
    }
   ],
   "source": [
    "print(n1[0])"
   ]
  },
  {
   "cell_type": "code",
   "execution_count": 29,
   "id": "8a835e52-2c3e-4249-928e-79817f66b048",
   "metadata": {},
   "outputs": [
    {
     "name": "stdout",
     "output_type": "stream",
     "text": [
      "8\n"
     ]
    }
   ],
   "source": [
    "print(n1[-1])"
   ]
  },
  {
   "cell_type": "code",
   "execution_count": 30,
   "id": "cf403616-1586-4bb7-ab86-4482822042ff",
   "metadata": {},
   "outputs": [
    {
     "name": "stdout",
     "output_type": "stream",
     "text": [
      "8\n"
     ]
    }
   ],
   "source": [
    "print(n2[1,3])"
   ]
  },
  {
   "cell_type": "code",
   "execution_count": 33,
   "id": "50b5edb7-d557-4ae8-8e5b-170f236145fe",
   "metadata": {},
   "outputs": [
    {
     "name": "stdout",
     "output_type": "stream",
     "text": [
      "[1 2 3 4]\n"
     ]
    }
   ],
   "source": [
    "print(n2[0])"
   ]
  },
  {
   "cell_type": "code",
   "execution_count": 35,
   "id": "1759b21d-34f9-4488-aa2d-01f56c0d1323",
   "metadata": {},
   "outputs": [
    {
     "name": "stdout",
     "output_type": "stream",
     "text": [
      "[4 8]\n"
     ]
    }
   ],
   "source": [
    "print(n2[:,3])"
   ]
  },
  {
   "cell_type": "code",
   "execution_count": 41,
   "id": "78bb679e-f1c4-471c-81c1-24e39d0b3181",
   "metadata": {},
   "outputs": [
    {
     "name": "stdout",
     "output_type": "stream",
     "text": [
      "[[[ 1  1]\n",
      "  [ 1  1]]\n",
      "\n",
      " [[ 1  1]\n",
      "  [ 1 25]]\n",
      "\n",
      " [[ 1  1]\n",
      "  [ 1  1]]\n",
      "\n",
      " [[ 1  1]\n",
      "  [ 1  1]]\n",
      "\n",
      " [[ 1  1]\n",
      "  [ 1  1]]\n",
      "\n",
      " [[ 1  1]\n",
      "  [ 1  1]]\n",
      "\n",
      " [[ 1  1]\n",
      "  [ 1  1]]\n",
      "\n",
      " [[ 1  1]\n",
      "  [ 1  1]]\n",
      "\n",
      " [[ 1  1]\n",
      "  [ 1  1]]\n",
      "\n",
      " [[ 1  1]\n",
      "  [ 1  1]]]\n"
     ]
    }
   ],
   "source": [
    "n5[1,1,1]=25\n",
    "print(n5)"
   ]
  },
  {
   "cell_type": "markdown",
   "id": "4f46ba5e-cb06-4a41-83aa-bf43baa61de5",
   "metadata": {},
   "source": [
    "# Size and Shape"
   ]
  },
  {
   "cell_type": "code",
   "execution_count": 43,
   "id": "99212ce6-471d-4166-9269-8d2f6bcf206b",
   "metadata": {},
   "outputs": [
    {
     "name": "stdout",
     "output_type": "stream",
     "text": [
      "3\n",
      "1\n"
     ]
    }
   ],
   "source": [
    "print(n5.ndim)\n",
    "print(n1.ndim)"
   ]
  },
  {
   "cell_type": "code",
   "execution_count": 44,
   "id": "50c09409-2752-4d0c-98d0-01c09ce675df",
   "metadata": {},
   "outputs": [
    {
     "name": "stdout",
     "output_type": "stream",
     "text": [
      "(10, 2, 2)\n",
      "(5,)\n"
     ]
    }
   ],
   "source": [
    "print(n5.shape)\n",
    "print(n1.shape)"
   ]
  },
  {
   "cell_type": "code",
   "execution_count": 45,
   "id": "7e86d52a-a2ec-467a-8430-04d771182285",
   "metadata": {},
   "outputs": [
    {
     "name": "stdout",
     "output_type": "stream",
     "text": [
      "40\n"
     ]
    }
   ],
   "source": [
    "print(n5.size)"
   ]
  },
  {
   "cell_type": "code",
   "execution_count": 47,
   "id": "d7b2880d-ab04-4db0-8f79-19a650a7a643",
   "metadata": {},
   "outputs": [
    {
     "name": "stdout",
     "output_type": "stream",
     "text": [
      "int32\n"
     ]
    }
   ],
   "source": [
    "print(n5.dtype)"
   ]
  },
  {
   "cell_type": "code",
   "execution_count": 48,
   "id": "9853b4df-242f-4a42-907a-02b2b1c38730",
   "metadata": {},
   "outputs": [
    {
     "name": "stdout",
     "output_type": "stream",
     "text": [
      "4\n"
     ]
    }
   ],
   "source": [
    "print(n5.itemsize)"
   ]
  },
  {
   "cell_type": "code",
   "execution_count": 49,
   "id": "3d6fb84d-3777-4553-9469-d796fdbbe14f",
   "metadata": {},
   "outputs": [
    {
     "name": "stdout",
     "output_type": "stream",
     "text": [
      "160\n"
     ]
    }
   ],
   "source": [
    "print(n5.nbytes)"
   ]
  },
  {
   "cell_type": "markdown",
   "id": "b967258c-4dfa-4053-9c6f-d8d0e34b7523",
   "metadata": {},
   "source": [
    "# Sorting"
   ]
  },
  {
   "cell_type": "code",
   "execution_count": 51,
   "id": "4111b005-92bb-4ac4-9736-7f8f942c3d58",
   "metadata": {},
   "outputs": [
    {
     "data": {
      "text/plain": [
       "array([  1,   3,   5,   5,   5,   6,   7,  97, 566])"
      ]
     },
     "execution_count": 51,
     "metadata": {},
     "output_type": "execute_result"
    }
   ],
   "source": [
    "n10 = np.array([5,3,7,5,6,97,5,566,1])\n",
    "np.sort(n10)"
   ]
  },
  {
   "cell_type": "code",
   "execution_count": 53,
   "id": "9043f8db-d7ab-4b2a-bd2d-03cd667641f2",
   "metadata": {},
   "outputs": [
    {
     "data": {
      "text/plain": [
       "array([[1, 3, 8],\n",
       "       [2, 4, 6]])"
      ]
     },
     "execution_count": 53,
     "metadata": {},
     "output_type": "execute_result"
    }
   ],
   "source": [
    "n11=np.array([[3,1,8],[6,2,4]])\n",
    "np.sort(n11)"
   ]
  },
  {
   "cell_type": "code",
   "execution_count": 54,
   "id": "df115fed-bca3-4aa9-ab20-a0e5a85a0a81",
   "metadata": {},
   "outputs": [
    {
     "data": {
      "text/plain": [
       "array([[3, 1, 4],\n",
       "       [6, 2, 8]])"
      ]
     },
     "execution_count": 54,
     "metadata": {},
     "output_type": "execute_result"
    }
   ],
   "source": [
    "np.sort(n11,axis=0)"
   ]
  },
  {
   "cell_type": "markdown",
   "id": "d741b2fd-bb29-45dc-8d94-e6beda88fbda",
   "metadata": {},
   "source": [
    "# Reshaping and Array Conversion"
   ]
  },
  {
   "cell_type": "code",
   "execution_count": 55,
   "id": "c8a2e5c7-1bd8-4a2c-a375-11dbb2eba612",
   "metadata": {},
   "outputs": [
    {
     "name": "stdout",
     "output_type": "stream",
     "text": [
      "[[  5   3   7]\n",
      " [  5   6  97]\n",
      " [  5 566   1]]\n"
     ]
    }
   ],
   "source": [
    "n12=n10.reshape(3,3)\n",
    "print(n12)"
   ]
  },
  {
   "cell_type": "code",
   "execution_count": 59,
   "id": "aba7e579-d82d-453c-96f0-8a24d9f52025",
   "metadata": {},
   "outputs": [
    {
     "name": "stdout",
     "output_type": "stream",
     "text": [
      "[0 1 2 3 5 6 7 8]\n"
     ]
    }
   ],
   "source": [
    "n13=np.arange(4)\n",
    "n14=np.arange(5,9)\n",
    "n15=np.concatenate((n13,n14))\n",
    "print(n15)"
   ]
  },
  {
   "cell_type": "code",
   "execution_count": 64,
   "id": "7c478f15-d926-4f0d-b14d-9a5e826ac340",
   "metadata": {},
   "outputs": [
    {
     "name": "stdout",
     "output_type": "stream",
     "text": [
      "[[0 1 2 3 4 5 6 7]]\n",
      "(1, 8)\n",
      "[[0]\n",
      " [1]\n",
      " [2]\n",
      " [3]\n",
      " [4]\n",
      " [5]\n",
      " [6]\n",
      " [7]]\n",
      "(8, 1)\n"
     ]
    }
   ],
   "source": [
    "n16=np.arange(8)\n",
    "n17=n16[np.newaxis,:]\n",
    "print(n17)\n",
    "print(n17.shape)\n",
    "n18=n16[:,np.newaxis]\n",
    "print(n18)\n",
    "print(n18.shape)"
   ]
  },
  {
   "cell_type": "code",
   "execution_count": 67,
   "id": "e1811628-d4be-49b3-a925-838f2b975fc6",
   "metadata": {},
   "outputs": [
    {
     "name": "stdout",
     "output_type": "stream",
     "text": [
      "[[0 1 2 3 4 5 6 7]]\n",
      "[[0]\n",
      " [1]\n",
      " [2]\n",
      " [3]\n",
      " [4]\n",
      " [5]\n",
      " [6]\n",
      " [7]]\n"
     ]
    }
   ],
   "source": [
    "n19=np.expand_dims(n16,axis=0)\n",
    "print(n19)\n",
    "n20=np.expand_dims(n16,axis=1)\n",
    "print(n20)"
   ]
  },
  {
   "cell_type": "markdown",
   "id": "1c331ddb-4f51-413d-ae17-911a7845cd86",
   "metadata": {},
   "source": [
    "# Indexing and Slicing"
   ]
  },
  {
   "cell_type": "code",
   "execution_count": 68,
   "id": "b474106b-0c38-412f-b7b9-40978be1a274",
   "metadata": {},
   "outputs": [
    {
     "name": "stdout",
     "output_type": "stream",
     "text": [
      "[0 1 2 3 4 5 6 7 8 9]\n",
      "[0 1 2 3 4]\n"
     ]
    }
   ],
   "source": [
    "n21=np.arange(10)\n",
    "print(n21)\n",
    "print(n21[n21<5])"
   ]
  },
  {
   "cell_type": "code",
   "execution_count": 70,
   "id": "7c869fd8-80ab-4c9b-90cf-9b50ae80b334",
   "metadata": {},
   "outputs": [
    {
     "name": "stdout",
     "output_type": "stream",
     "text": [
      "[4 5 6 7]\n"
     ]
    }
   ],
   "source": [
    "print(n21[(n21>3) & (n21<8)])"
   ]
  },
  {
   "cell_type": "code",
   "execution_count": 72,
   "id": "2cebfb11-14cb-4014-9a4d-fe7449ea04e2",
   "metadata": {},
   "outputs": [
    {
     "name": "stdout",
     "output_type": "stream",
     "text": [
      "[False False False False False False  True  True  True  True]\n",
      "[6 7 8 9]\n"
     ]
    }
   ],
   "source": [
    "fiveup=n21>5\n",
    "print(fiveup)\n",
    "print(n21[fiveup])"
   ]
  },
  {
   "cell_type": "code",
   "execution_count": 78,
   "id": "d8b83fe9-ccf5-40c7-b2ff-38bcc9f330cd",
   "metadata": {},
   "outputs": [
    {
     "name": "stdout",
     "output_type": "stream",
     "text": [
      "(array([6, 7, 8, 9], dtype=int64),)\n"
     ]
    }
   ],
   "source": [
    "print(np.nonzero(n21>5))"
   ]
  },
  {
   "cell_type": "code",
   "execution_count": 79,
   "id": "a2c61849-d0e7-491e-81de-a0772def9bc1",
   "metadata": {},
   "outputs": [
    {
     "name": "stdout",
     "output_type": "stream",
     "text": [
      "[3 4 5 6]\n"
     ]
    }
   ],
   "source": [
    "print(n21[3:7])"
   ]
  },
  {
   "cell_type": "markdown",
   "id": "115ee3f0-e305-415e-b772-1778042e15b5",
   "metadata": {},
   "source": [
    "# Stack and Split"
   ]
  },
  {
   "cell_type": "code",
   "execution_count": 80,
   "id": "a9c0d5cb-7b5e-4a07-9dd3-decfe3312005",
   "metadata": {},
   "outputs": [
    {
     "data": {
      "text/plain": [
       "array([[1, 2, 5, 6],\n",
       "       [3, 4, 7, 8]])"
      ]
     },
     "execution_count": 80,
     "metadata": {},
     "output_type": "execute_result"
    }
   ],
   "source": [
    "n22=np.array([[1,2],[3,4]])\n",
    "n23=np.array([[5,6],[7,8]])\n",
    "np.hstack((n22,n23))"
   ]
  },
  {
   "cell_type": "code",
   "execution_count": 81,
   "id": "e9d29188-ab16-4abb-9124-34da86eaeb5e",
   "metadata": {},
   "outputs": [
    {
     "data": {
      "text/plain": [
       "array([[1, 2],\n",
       "       [3, 4],\n",
       "       [5, 6],\n",
       "       [7, 8]])"
      ]
     },
     "execution_count": 81,
     "metadata": {},
     "output_type": "execute_result"
    }
   ],
   "source": [
    "np.vstack((n22,n23))"
   ]
  },
  {
   "cell_type": "code",
   "execution_count": 87,
   "id": "c0afdf88-5fd2-4963-b47a-1bb0ebd85f17",
   "metadata": {},
   "outputs": [
    {
     "data": {
      "text/plain": [
       "[array([0, 1, 2, 3, 4]),\n",
       " array([5, 6, 7, 8, 9]),\n",
       " array([10, 11, 12, 13, 14]),\n",
       " array([15, 16, 17, 18, 19])]"
      ]
     },
     "execution_count": 87,
     "metadata": {},
     "output_type": "execute_result"
    }
   ],
   "source": [
    "n24=np.arange(20)\n",
    "np.hsplit(n24,4)"
   ]
  },
  {
   "cell_type": "code",
   "execution_count": 92,
   "id": "988fdc23-7a23-48ad-964d-8c192ec34c1d",
   "metadata": {},
   "outputs": [
    {
     "data": {
      "text/plain": [
       "[array([[1, 2, 3]]), array([[4, 5, 6]]), array([[7, 8, 9]])]"
      ]
     },
     "execution_count": 92,
     "metadata": {},
     "output_type": "execute_result"
    }
   ],
   "source": [
    "n25=np.array([[1,2,3],[4,5,6],[7,8,9]])\n",
    "np.vsplit(n25,3)"
   ]
  },
  {
   "cell_type": "markdown",
   "id": "80dfec40-2c9c-4664-8e78-3dfce750810a",
   "metadata": {},
   "source": [
    "# Copy"
   ]
  },
  {
   "cell_type": "code",
   "execution_count": 98,
   "id": "bb2aed4c-a542-413f-a7f2-fea071203b30",
   "metadata": {},
   "outputs": [
    {
     "name": "stdout",
     "output_type": "stream",
     "text": [
      "[ 0  1  2  3  4  5  6  7  8  9 10 11 12 13 14 15 16 17 18 19]\n",
      "[ 0 20  2  3  4  5  6  7  8  9 10 11 12 13 14 15 16 17 18 19]\n"
     ]
    }
   ],
   "source": [
    "n26=n24.copy()\n",
    "n26[1]=20\n",
    "print(f\"{n24}\\n{n26}\")"
   ]
  },
  {
   "cell_type": "markdown",
   "id": "d1c8e1e4-a9c2-44b4-91d5-7a573ad83930",
   "metadata": {},
   "source": [
    "# Math"
   ]
  },
  {
   "cell_type": "code",
   "execution_count": 100,
   "id": "c37d7e33-6e10-4da0-aec0-8abbf30ef117",
   "metadata": {},
   "outputs": [
    {
     "name": "stdout",
     "output_type": "stream",
     "text": [
      "[[1 2]\n",
      " [3 4]]\n",
      "[[5 6]\n",
      " [7 8]]\n",
      "[[ 6  8]\n",
      " [10 12]]\n"
     ]
    }
   ],
   "source": [
    "print(n22)\n",
    "print(n23)\n",
    "print(n22+n23)"
   ]
  },
  {
   "cell_type": "code",
   "execution_count": 101,
   "id": "9d47aaea-679a-4a73-94f6-98210fa1997d",
   "metadata": {},
   "outputs": [
    {
     "name": "stdout",
     "output_type": "stream",
     "text": [
      "[ 0 20  2  3  4  5  6  7  8  9 10 11 12 13 14 15 16 17 18 19]\n",
      "209\n"
     ]
    }
   ],
   "source": [
    "print(n26)\n",
    "print(n26.sum())"
   ]
  },
  {
   "cell_type": "code",
   "execution_count": 102,
   "id": "6ab89c30-d15f-4157-ba0c-58ab9fffe4b6",
   "metadata": {},
   "outputs": [
    {
     "name": "stdout",
     "output_type": "stream",
     "text": [
      "20\n"
     ]
    }
   ],
   "source": [
    "print(n26.max())"
   ]
  },
  {
   "cell_type": "code",
   "execution_count": 103,
   "id": "efda30b5-1cfd-4913-a158-5ad25abd9233",
   "metadata": {},
   "outputs": [
    {
     "name": "stdout",
     "output_type": "stream",
     "text": [
      "0\n"
     ]
    }
   ],
   "source": [
    "print(n26.min())"
   ]
  },
  {
   "cell_type": "code",
   "execution_count": 106,
   "id": "36920b82-7134-4089-8944-ad150f3064ec",
   "metadata": {},
   "outputs": [
    {
     "name": "stdout",
     "output_type": "stream",
     "text": [
      "[  0 200  20  30  40  50  60  70  80  90 100 110 120 130 140 150 160 170\n",
      " 180 190]\n",
      "2090\n"
     ]
    }
   ],
   "source": [
    "print(n26*10)\n",
    "print((n26*10).sum())"
   ]
  },
  {
   "cell_type": "code",
   "execution_count": 112,
   "id": "16ceaf5e-a25c-49a6-b236-b574fbb2136f",
   "metadata": {},
   "outputs": [
    {
     "name": "stdout",
     "output_type": "stream",
     "text": [
      "[ 1.          0.40808206 -0.41614684 -0.9899925  -0.65364362  0.28366219\n",
      "  0.96017029  0.75390225 -0.14550003 -0.91113026 -0.83907153  0.0044257\n",
      "  0.84385396  0.90744678  0.13673722 -0.75968791 -0.95765948 -0.27516334\n",
      "  0.66031671  0.98870462]\n"
     ]
    }
   ],
   "source": [
    "print(np.cos(n26))"
   ]
  },
  {
   "cell_type": "markdown",
   "id": "0349067a-b9ce-4dfe-9151-5d51dc5b0911",
   "metadata": {},
   "source": [
    "# Random Numbers"
   ]
  },
  {
   "cell_type": "code",
   "execution_count": 109,
   "id": "1735eceb-b0a9-4ed0-9514-e9a56dbbe0b2",
   "metadata": {},
   "outputs": [
    {
     "data": {
      "text/plain": [
       "array([[0.4217838 , 0.74341565, 0.12405161],\n",
       "       [0.52406741, 0.2851054 , 0.34504861],\n",
       "       [0.18032697, 0.65472325, 0.51677837]])"
      ]
     },
     "execution_count": 109,
     "metadata": {},
     "output_type": "execute_result"
    }
   ],
   "source": [
    "np.random.rand(3,3)"
   ]
  },
  {
   "cell_type": "code",
   "execution_count": 111,
   "id": "e40f3977-6d85-4959-bf13-6d99a9a393fe",
   "metadata": {},
   "outputs": [
    {
     "data": {
      "text/plain": [
       "array([[825,  41, 853],\n",
       "       [535, 283, 700],\n",
       "       [589, 408, 977]])"
      ]
     },
     "execution_count": 111,
     "metadata": {},
     "output_type": "execute_result"
    }
   ],
   "source": [
    "np.random.randint(1000,size=(3,3))"
   ]
  },
  {
   "cell_type": "code",
   "execution_count": null,
   "id": "a3d7a6ca-04cb-421b-b50f-37081c13435a",
   "metadata": {},
   "outputs": [],
   "source": []
  }
 ],
 "metadata": {
  "kernelspec": {
   "display_name": "Python 3",
   "language": "python",
   "name": "python3"
  },
  "language_info": {
   "codemirror_mode": {
    "name": "ipython",
    "version": 3
   },
   "file_extension": ".py",
   "mimetype": "text/x-python",
   "name": "python",
   "nbconvert_exporter": "python",
   "pygments_lexer": "ipython3",
   "version": "3.13.1"
  }
 },
 "nbformat": 4,
 "nbformat_minor": 5
}
