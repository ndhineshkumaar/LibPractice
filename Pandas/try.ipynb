{
 "cells": [
  {
   "cell_type": "code",
   "execution_count": 1,
   "id": "540b7d0c-1295-4639-96cb-df96cc7ac77b",
   "metadata": {},
   "outputs": [
    {
     "name": "stdout",
     "output_type": "stream",
     "text": [
      "Requirement already satisfied: numpy in d:\\python\\lib\\site-packages (2.1.1)\n",
      "Requirement already satisfied: pandas in d:\\python\\lib\\site-packages (2.2.3)\n",
      "Requirement already satisfied: numpy>=1.26.0 in d:\\python\\lib\\site-packages (from pandas) (2.1.1)\n",
      "Requirement already satisfied: python-dateutil>=2.8.2 in d:\\python\\lib\\site-packages (from pandas) (2.9.0.post0)\n",
      "Requirement already satisfied: pytz>=2020.1 in d:\\python\\lib\\site-packages (from pandas) (2024.2)\n",
      "Requirement already satisfied: tzdata>=2022.7 in d:\\python\\lib\\site-packages (from pandas) (2024.2)\n",
      "Requirement already satisfied: six>=1.5 in d:\\python\\lib\\site-packages (from python-dateutil>=2.8.2->pandas) (1.17.0)\n"
     ]
    }
   ],
   "source": [
    "!pip install numpy\n",
    "!pip install pandas"
   ]
  },
  {
   "cell_type": "code",
   "execution_count": 18,
   "id": "a04fd8b9-6e8b-4951-b788-fff50ec36d2c",
   "metadata": {},
   "outputs": [],
   "source": [
    "import pandas as pd\n",
    "import numpy as np\n",
    "from numpy.random import randn"
   ]
  },
  {
   "cell_type": "markdown",
   "id": "3b683a4a-7f2e-4366-a6e8-0cce88366e15",
   "metadata": {},
   "source": [
    "# Pandas Series - Like a Table Column - 1D Araay holding any type of Data"
   ]
  },
  {
   "cell_type": "code",
   "execution_count": 6,
   "id": "bccd5d4f-1069-4ce0-ad73-805571b634b9",
   "metadata": {},
   "outputs": [
    {
     "name": "stdout",
     "output_type": "stream",
     "text": [
      "0     5\n",
      "1     9\n",
      "2    12\n",
      "3    27\n",
      "dtype: int64\n"
     ]
    }
   ],
   "source": [
    "my_series=[5,9,12,27]\n",
    "p1 = pd.Series(my_series)\n",
    "print(p1)"
   ]
  },
  {
   "cell_type": "code",
   "execution_count": 8,
   "id": "67ce8d8c-5ae2-4484-97b4-0eff7f9d5d05",
   "metadata": {},
   "outputs": [
    {
     "data": {
      "text/plain": [
       "12"
      ]
     },
     "execution_count": 8,
     "metadata": {},
     "output_type": "execute_result"
    }
   ],
   "source": [
    "p1[2]"
   ]
  },
  {
   "cell_type": "code",
   "execution_count": 12,
   "id": "45a334c6-a174-4fd7-8352-6e371e10762c",
   "metadata": {},
   "outputs": [
    {
     "name": "stdout",
     "output_type": "stream",
     "text": [
      "A     5\n",
      "B     9\n",
      "C    12\n",
      "D    27\n",
      "dtype: int64\n"
     ]
    }
   ],
   "source": [
    "my_index=[\"A\",\"B\",\"C\",\"D\"]\n",
    "p2=pd.Series(my_series,my_index)\n",
    "print(p2)"
   ]
  },
  {
   "cell_type": "code",
   "execution_count": 13,
   "id": "78c773e4-e8e0-43e4-ad2e-83968a8198f1",
   "metadata": {},
   "outputs": [
    {
     "data": {
      "text/plain": [
       "9"
      ]
     },
     "execution_count": 13,
     "metadata": {},
     "output_type": "execute_result"
    }
   ],
   "source": [
    "p2[\"B\"]"
   ]
  },
  {
   "cell_type": "code",
   "execution_count": 16,
   "id": "74a76a88-96c0-4955-bc69-6e9b37b7c588",
   "metadata": {},
   "outputs": [
    {
     "name": "stdout",
     "output_type": "stream",
     "text": [
      "Tesla       12\n",
      "Mercedes    42\n",
      "BMW          3\n",
      "dtype: int64\n"
     ]
    }
   ],
   "source": [
    "cars={\"Tesla\":12,\"Mercedes\":42,\"BMW\":3}\n",
    "p3=pd.Series(cars)\n",
    "print(p3)"
   ]
  },
  {
   "cell_type": "code",
   "execution_count": 17,
   "id": "0eddacf3-4c11-42ea-8c2b-9fe84471eb93",
   "metadata": {},
   "outputs": [
    {
     "data": {
      "text/plain": [
       "42"
      ]
     },
     "execution_count": 17,
     "metadata": {},
     "output_type": "execute_result"
    }
   ],
   "source": [
    "p3[\"Mercedes\"]"
   ]
  },
  {
   "cell_type": "markdown",
   "id": "bd1b0dc7-36f3-406e-867f-1d57aa11f75d",
   "metadata": {},
   "source": [
    "# DataFrames"
   ]
  },
  {
   "cell_type": "code",
   "execution_count": 20,
   "id": "b57b7912-52f6-4ed9-9e29-3345559e8f58",
   "metadata": {},
   "outputs": [
    {
     "data": {
      "text/html": [
       "<div>\n",
       "<style scoped>\n",
       "    .dataframe tbody tr th:only-of-type {\n",
       "        vertical-align: middle;\n",
       "    }\n",
       "\n",
       "    .dataframe tbody tr th {\n",
       "        vertical-align: top;\n",
       "    }\n",
       "\n",
       "    .dataframe thead th {\n",
       "        text-align: right;\n",
       "    }\n",
       "</style>\n",
       "<table border=\"1\" class=\"dataframe\">\n",
       "  <thead>\n",
       "    <tr style=\"text-align: right;\">\n",
       "      <th></th>\n",
       "      <th>Mon</th>\n",
       "      <th>Tue</th>\n",
       "      <th>Fri</th>\n",
       "    </tr>\n",
       "  </thead>\n",
       "  <tbody>\n",
       "    <tr>\n",
       "      <th>A</th>\n",
       "      <td>0.751544</td>\n",
       "      <td>0.707808</td>\n",
       "      <td>1.979844</td>\n",
       "    </tr>\n",
       "    <tr>\n",
       "      <th>B</th>\n",
       "      <td>1.049173</td>\n",
       "      <td>0.269409</td>\n",
       "      <td>0.399155</td>\n",
       "    </tr>\n",
       "    <tr>\n",
       "      <th>C</th>\n",
       "      <td>0.283102</td>\n",
       "      <td>1.708939</td>\n",
       "      <td>1.077953</td>\n",
       "    </tr>\n",
       "    <tr>\n",
       "      <th>D</th>\n",
       "      <td>-0.260919</td>\n",
       "      <td>-0.224757</td>\n",
       "      <td>-0.411032</td>\n",
       "    </tr>\n",
       "  </tbody>\n",
       "</table>\n",
       "</div>"
      ],
      "text/plain": [
       "        Mon       Tue       Fri\n",
       "A  0.751544  0.707808  1.979844\n",
       "B  1.049173  0.269409  0.399155\n",
       "C  0.283102  1.708939  1.077953\n",
       "D -0.260919 -0.224757 -0.411032"
      ]
     },
     "execution_count": 20,
     "metadata": {},
     "output_type": "execute_result"
    }
   ],
   "source": [
    "my_data=randn(4,3)\n",
    "my_rows=[\"A\",\"B\",\"C\",\"D\"]\n",
    "my_cols=[\"Mon\",\"Tue\",\"Fri\"]\n",
    "p4=pd.DataFrame(my_data,my_rows,my_cols)\n",
    "p4"
   ]
  },
  {
   "cell_type": "code",
   "execution_count": 21,
   "id": "7d8ca9fd-6575-41ab-830e-ba88027665e7",
   "metadata": {},
   "outputs": [
    {
     "data": {
      "text/html": [
       "<div>\n",
       "<style scoped>\n",
       "    .dataframe tbody tr th:only-of-type {\n",
       "        vertical-align: middle;\n",
       "    }\n",
       "\n",
       "    .dataframe tbody tr th {\n",
       "        vertical-align: top;\n",
       "    }\n",
       "\n",
       "    .dataframe thead th {\n",
       "        text-align: right;\n",
       "    }\n",
       "</style>\n",
       "<table border=\"1\" class=\"dataframe\">\n",
       "  <thead>\n",
       "    <tr style=\"text-align: right;\">\n",
       "      <th></th>\n",
       "      <th>Breed</th>\n",
       "      <th>Color</th>\n",
       "      <th>DogName</th>\n",
       "      <th>OwnerZip</th>\n",
       "    </tr>\n",
       "  </thead>\n",
       "  <tbody>\n",
       "    <tr>\n",
       "      <th>0</th>\n",
       "      <td>Beagle</td>\n",
       "      <td>Black</td>\n",
       "      <td>Molly</td>\n",
       "      <td>30303</td>\n",
       "    </tr>\n",
       "    <tr>\n",
       "      <th>1</th>\n",
       "      <td>Poodle</td>\n",
       "      <td>Mixed</td>\n",
       "      <td>Bailey</td>\n",
       "      <td>98101</td>\n",
       "    </tr>\n",
       "    <tr>\n",
       "      <th>2</th>\n",
       "      <td>Poodle</td>\n",
       "      <td>Mixed</td>\n",
       "      <td>Bella</td>\n",
       "      <td>98101</td>\n",
       "    </tr>\n",
       "    <tr>\n",
       "      <th>3</th>\n",
       "      <td>Poodle</td>\n",
       "      <td>Black</td>\n",
       "      <td>Molly</td>\n",
       "      <td>90210</td>\n",
       "    </tr>\n",
       "    <tr>\n",
       "      <th>4</th>\n",
       "      <td>Beagle</td>\n",
       "      <td>Brown</td>\n",
       "      <td>Charlie</td>\n",
       "      <td>33101</td>\n",
       "    </tr>\n",
       "    <tr>\n",
       "      <th>5</th>\n",
       "      <td>Labrador</td>\n",
       "      <td>Mixed</td>\n",
       "      <td>Buddy</td>\n",
       "      <td>90210</td>\n",
       "    </tr>\n",
       "    <tr>\n",
       "      <th>6</th>\n",
       "      <td>Labrador</td>\n",
       "      <td>White</td>\n",
       "      <td>Max</td>\n",
       "      <td>98101</td>\n",
       "    </tr>\n",
       "    <tr>\n",
       "      <th>7</th>\n",
       "      <td>Bulldog</td>\n",
       "      <td>Mixed</td>\n",
       "      <td>Sadie</td>\n",
       "      <td>90210</td>\n",
       "    </tr>\n",
       "    <tr>\n",
       "      <th>8</th>\n",
       "      <td>Chihuahua</td>\n",
       "      <td>Cream</td>\n",
       "      <td>Charlie</td>\n",
       "      <td>33101</td>\n",
       "    </tr>\n",
       "    <tr>\n",
       "      <th>9</th>\n",
       "      <td>Labrador</td>\n",
       "      <td>Gray</td>\n",
       "      <td>Rocky</td>\n",
       "      <td>33101</td>\n",
       "    </tr>\n",
       "    <tr>\n",
       "      <th>10</th>\n",
       "      <td>Golden Retriever</td>\n",
       "      <td>Mixed</td>\n",
       "      <td>Sadie</td>\n",
       "      <td>33101</td>\n",
       "    </tr>\n",
       "    <tr>\n",
       "      <th>11</th>\n",
       "      <td>Bulldog</td>\n",
       "      <td>Gray</td>\n",
       "      <td>Rocky</td>\n",
       "      <td>30303</td>\n",
       "    </tr>\n",
       "    <tr>\n",
       "      <th>12</th>\n",
       "      <td>Chihuahua</td>\n",
       "      <td>White</td>\n",
       "      <td>Bailey</td>\n",
       "      <td>10001</td>\n",
       "    </tr>\n",
       "    <tr>\n",
       "      <th>13</th>\n",
       "      <td>Chihuahua</td>\n",
       "      <td>Cream</td>\n",
       "      <td>Lucy</td>\n",
       "      <td>10001</td>\n",
       "    </tr>\n",
       "    <tr>\n",
       "      <th>14</th>\n",
       "      <td>Chihuahua</td>\n",
       "      <td>Gray</td>\n",
       "      <td>Lucy</td>\n",
       "      <td>2139</td>\n",
       "    </tr>\n",
       "    <tr>\n",
       "      <th>15</th>\n",
       "      <td>Bulldog</td>\n",
       "      <td>Black</td>\n",
       "      <td>Bella</td>\n",
       "      <td>33101</td>\n",
       "    </tr>\n",
       "    <tr>\n",
       "      <th>16</th>\n",
       "      <td>Bulldog</td>\n",
       "      <td>Gray</td>\n",
       "      <td>Rocky</td>\n",
       "      <td>98101</td>\n",
       "    </tr>\n",
       "    <tr>\n",
       "      <th>17</th>\n",
       "      <td>Bulldog</td>\n",
       "      <td>Mixed</td>\n",
       "      <td>Bailey</td>\n",
       "      <td>60614</td>\n",
       "    </tr>\n",
       "    <tr>\n",
       "      <th>18</th>\n",
       "      <td>Poodle</td>\n",
       "      <td>Mixed</td>\n",
       "      <td>Lucy</td>\n",
       "      <td>90210</td>\n",
       "    </tr>\n",
       "  </tbody>\n",
       "</table>\n",
       "</div>"
      ],
      "text/plain": [
       "               Breed  Color  DogName  OwnerZip\n",
       "0             Beagle  Black    Molly     30303\n",
       "1             Poodle  Mixed   Bailey     98101\n",
       "2             Poodle  Mixed    Bella     98101\n",
       "3             Poodle  Black    Molly     90210\n",
       "4             Beagle  Brown  Charlie     33101\n",
       "5           Labrador  Mixed    Buddy     90210\n",
       "6           Labrador  White      Max     98101\n",
       "7            Bulldog  Mixed    Sadie     90210\n",
       "8          Chihuahua  Cream  Charlie     33101\n",
       "9           Labrador   Gray    Rocky     33101\n",
       "10  Golden Retriever  Mixed    Sadie     33101\n",
       "11           Bulldog   Gray    Rocky     30303\n",
       "12         Chihuahua  White   Bailey     10001\n",
       "13         Chihuahua  Cream     Lucy     10001\n",
       "14         Chihuahua   Gray     Lucy      2139\n",
       "15           Bulldog  Black    Bella     33101\n",
       "16           Bulldog   Gray    Rocky     98101\n",
       "17           Bulldog  Mixed   Bailey     60614\n",
       "18            Poodle  Mixed     Lucy     90210"
      ]
     },
     "execution_count": 21,
     "metadata": {},
     "output_type": "execute_result"
    }
   ],
   "source": [
    "p5=pd.read_csv('dog_data.csv')\n",
    "p5"
   ]
  },
  {
   "cell_type": "code",
   "execution_count": 23,
   "id": "cc8254e9-d551-4e29-8e14-fc47444fee6f",
   "metadata": {},
   "outputs": [
    {
     "data": {
      "text/plain": [
       "Breed       Beagle\n",
       "Color        Black\n",
       "DogName      Molly\n",
       "OwnerZip     30303\n",
       "Name: 0, dtype: object"
      ]
     },
     "execution_count": 23,
     "metadata": {},
     "output_type": "execute_result"
    }
   ],
   "source": [
    "p5.loc[0]"
   ]
  },
  {
   "cell_type": "code",
   "execution_count": 26,
   "id": "ffde0942-1d46-4de9-a235-355b101a4ecf",
   "metadata": {},
   "outputs": [
    {
     "data": {
      "text/html": [
       "<div>\n",
       "<style scoped>\n",
       "    .dataframe tbody tr th:only-of-type {\n",
       "        vertical-align: middle;\n",
       "    }\n",
       "\n",
       "    .dataframe tbody tr th {\n",
       "        vertical-align: top;\n",
       "    }\n",
       "\n",
       "    .dataframe thead th {\n",
       "        text-align: right;\n",
       "    }\n",
       "</style>\n",
       "<table border=\"1\" class=\"dataframe\">\n",
       "  <thead>\n",
       "    <tr style=\"text-align: right;\">\n",
       "      <th></th>\n",
       "      <th>Breed</th>\n",
       "      <th>Color</th>\n",
       "      <th>DogName</th>\n",
       "      <th>OwnerZip</th>\n",
       "    </tr>\n",
       "  </thead>\n",
       "  <tbody>\n",
       "    <tr>\n",
       "      <th>0</th>\n",
       "      <td>Beagle</td>\n",
       "      <td>Black</td>\n",
       "      <td>Molly</td>\n",
       "      <td>30303</td>\n",
       "    </tr>\n",
       "    <tr>\n",
       "      <th>5</th>\n",
       "      <td>Labrador</td>\n",
       "      <td>Mixed</td>\n",
       "      <td>Buddy</td>\n",
       "      <td>90210</td>\n",
       "    </tr>\n",
       "    <tr>\n",
       "      <th>8</th>\n",
       "      <td>Chihuahua</td>\n",
       "      <td>Cream</td>\n",
       "      <td>Charlie</td>\n",
       "      <td>33101</td>\n",
       "    </tr>\n",
       "  </tbody>\n",
       "</table>\n",
       "</div>"
      ],
      "text/plain": [
       "       Breed  Color  DogName  OwnerZip\n",
       "0     Beagle  Black    Molly     30303\n",
       "5   Labrador  Mixed    Buddy     90210\n",
       "8  Chihuahua  Cream  Charlie     33101"
      ]
     },
     "execution_count": 26,
     "metadata": {},
     "output_type": "execute_result"
    }
   ],
   "source": [
    "p5.loc[[0,5,8]]"
   ]
  },
  {
   "cell_type": "code",
   "execution_count": 27,
   "id": "f5c56bed-77ce-4257-9673-3601f29d0baf",
   "metadata": {},
   "outputs": [
    {
     "data": {
      "text/html": [
       "<div>\n",
       "<style scoped>\n",
       "    .dataframe tbody tr th:only-of-type {\n",
       "        vertical-align: middle;\n",
       "    }\n",
       "\n",
       "    .dataframe tbody tr th {\n",
       "        vertical-align: top;\n",
       "    }\n",
       "\n",
       "    .dataframe thead th {\n",
       "        text-align: right;\n",
       "    }\n",
       "</style>\n",
       "<table border=\"1\" class=\"dataframe\">\n",
       "  <thead>\n",
       "    <tr style=\"text-align: right;\">\n",
       "      <th></th>\n",
       "      <th>Breed</th>\n",
       "      <th>Color</th>\n",
       "      <th>DogName</th>\n",
       "      <th>OwnerZip</th>\n",
       "    </tr>\n",
       "  </thead>\n",
       "  <tbody>\n",
       "    <tr>\n",
       "      <th>0</th>\n",
       "      <td>Beagle</td>\n",
       "      <td>Black</td>\n",
       "      <td>Molly</td>\n",
       "      <td>30303</td>\n",
       "    </tr>\n",
       "    <tr>\n",
       "      <th>1</th>\n",
       "      <td>Poodle</td>\n",
       "      <td>Mixed</td>\n",
       "      <td>Bailey</td>\n",
       "      <td>98101</td>\n",
       "    </tr>\n",
       "    <tr>\n",
       "      <th>2</th>\n",
       "      <td>Poodle</td>\n",
       "      <td>Mixed</td>\n",
       "      <td>Bella</td>\n",
       "      <td>98101</td>\n",
       "    </tr>\n",
       "    <tr>\n",
       "      <th>3</th>\n",
       "      <td>Poodle</td>\n",
       "      <td>Black</td>\n",
       "      <td>Molly</td>\n",
       "      <td>90210</td>\n",
       "    </tr>\n",
       "    <tr>\n",
       "      <th>4</th>\n",
       "      <td>Beagle</td>\n",
       "      <td>Brown</td>\n",
       "      <td>Charlie</td>\n",
       "      <td>33101</td>\n",
       "    </tr>\n",
       "  </tbody>\n",
       "</table>\n",
       "</div>"
      ],
      "text/plain": [
       "    Breed  Color  DogName  OwnerZip\n",
       "0  Beagle  Black    Molly     30303\n",
       "1  Poodle  Mixed   Bailey     98101\n",
       "2  Poodle  Mixed    Bella     98101\n",
       "3  Poodle  Black    Molly     90210\n",
       "4  Beagle  Brown  Charlie     33101"
      ]
     },
     "execution_count": 27,
     "metadata": {},
     "output_type": "execute_result"
    }
   ],
   "source": [
    "p5.head()"
   ]
  },
  {
   "cell_type": "code",
   "execution_count": 28,
   "id": "5e0dd242-3158-4f9e-8694-fd95b4338a18",
   "metadata": {},
   "outputs": [
    {
     "data": {
      "text/html": [
       "<div>\n",
       "<style scoped>\n",
       "    .dataframe tbody tr th:only-of-type {\n",
       "        vertical-align: middle;\n",
       "    }\n",
       "\n",
       "    .dataframe tbody tr th {\n",
       "        vertical-align: top;\n",
       "    }\n",
       "\n",
       "    .dataframe thead th {\n",
       "        text-align: right;\n",
       "    }\n",
       "</style>\n",
       "<table border=\"1\" class=\"dataframe\">\n",
       "  <thead>\n",
       "    <tr style=\"text-align: right;\">\n",
       "      <th></th>\n",
       "      <th>Breed</th>\n",
       "      <th>Color</th>\n",
       "      <th>DogName</th>\n",
       "      <th>OwnerZip</th>\n",
       "    </tr>\n",
       "  </thead>\n",
       "  <tbody>\n",
       "    <tr>\n",
       "      <th>0</th>\n",
       "      <td>Beagle</td>\n",
       "      <td>Black</td>\n",
       "      <td>Molly</td>\n",
       "      <td>30303</td>\n",
       "    </tr>\n",
       "    <tr>\n",
       "      <th>1</th>\n",
       "      <td>Poodle</td>\n",
       "      <td>Mixed</td>\n",
       "      <td>Bailey</td>\n",
       "      <td>98101</td>\n",
       "    </tr>\n",
       "    <tr>\n",
       "      <th>2</th>\n",
       "      <td>Poodle</td>\n",
       "      <td>Mixed</td>\n",
       "      <td>Bella</td>\n",
       "      <td>98101</td>\n",
       "    </tr>\n",
       "    <tr>\n",
       "      <th>3</th>\n",
       "      <td>Poodle</td>\n",
       "      <td>Black</td>\n",
       "      <td>Molly</td>\n",
       "      <td>90210</td>\n",
       "    </tr>\n",
       "    <tr>\n",
       "      <th>4</th>\n",
       "      <td>Beagle</td>\n",
       "      <td>Brown</td>\n",
       "      <td>Charlie</td>\n",
       "      <td>33101</td>\n",
       "    </tr>\n",
       "    <tr>\n",
       "      <th>5</th>\n",
       "      <td>Labrador</td>\n",
       "      <td>Mixed</td>\n",
       "      <td>Buddy</td>\n",
       "      <td>90210</td>\n",
       "    </tr>\n",
       "    <tr>\n",
       "      <th>6</th>\n",
       "      <td>Labrador</td>\n",
       "      <td>White</td>\n",
       "      <td>Max</td>\n",
       "      <td>98101</td>\n",
       "    </tr>\n",
       "    <tr>\n",
       "      <th>7</th>\n",
       "      <td>Bulldog</td>\n",
       "      <td>Mixed</td>\n",
       "      <td>Sadie</td>\n",
       "      <td>90210</td>\n",
       "    </tr>\n",
       "    <tr>\n",
       "      <th>8</th>\n",
       "      <td>Chihuahua</td>\n",
       "      <td>Cream</td>\n",
       "      <td>Charlie</td>\n",
       "      <td>33101</td>\n",
       "    </tr>\n",
       "  </tbody>\n",
       "</table>\n",
       "</div>"
      ],
      "text/plain": [
       "       Breed  Color  DogName  OwnerZip\n",
       "0     Beagle  Black    Molly     30303\n",
       "1     Poodle  Mixed   Bailey     98101\n",
       "2     Poodle  Mixed    Bella     98101\n",
       "3     Poodle  Black    Molly     90210\n",
       "4     Beagle  Brown  Charlie     33101\n",
       "5   Labrador  Mixed    Buddy     90210\n",
       "6   Labrador  White      Max     98101\n",
       "7    Bulldog  Mixed    Sadie     90210\n",
       "8  Chihuahua  Cream  Charlie     33101"
      ]
     },
     "execution_count": 28,
     "metadata": {},
     "output_type": "execute_result"
    }
   ],
   "source": [
    "p5.head(9)"
   ]
  },
  {
   "cell_type": "code",
   "execution_count": 29,
   "id": "d4012758-7499-46ee-ac67-312330829b56",
   "metadata": {},
   "outputs": [
    {
     "data": {
      "text/html": [
       "<div>\n",
       "<style scoped>\n",
       "    .dataframe tbody tr th:only-of-type {\n",
       "        vertical-align: middle;\n",
       "    }\n",
       "\n",
       "    .dataframe tbody tr th {\n",
       "        vertical-align: top;\n",
       "    }\n",
       "\n",
       "    .dataframe thead th {\n",
       "        text-align: right;\n",
       "    }\n",
       "</style>\n",
       "<table border=\"1\" class=\"dataframe\">\n",
       "  <thead>\n",
       "    <tr style=\"text-align: right;\">\n",
       "      <th></th>\n",
       "      <th>Breed</th>\n",
       "      <th>Color</th>\n",
       "      <th>DogName</th>\n",
       "      <th>OwnerZip</th>\n",
       "    </tr>\n",
       "  </thead>\n",
       "  <tbody>\n",
       "    <tr>\n",
       "      <th>14</th>\n",
       "      <td>Chihuahua</td>\n",
       "      <td>Gray</td>\n",
       "      <td>Lucy</td>\n",
       "      <td>2139</td>\n",
       "    </tr>\n",
       "    <tr>\n",
       "      <th>15</th>\n",
       "      <td>Bulldog</td>\n",
       "      <td>Black</td>\n",
       "      <td>Bella</td>\n",
       "      <td>33101</td>\n",
       "    </tr>\n",
       "    <tr>\n",
       "      <th>16</th>\n",
       "      <td>Bulldog</td>\n",
       "      <td>Gray</td>\n",
       "      <td>Rocky</td>\n",
       "      <td>98101</td>\n",
       "    </tr>\n",
       "    <tr>\n",
       "      <th>17</th>\n",
       "      <td>Bulldog</td>\n",
       "      <td>Mixed</td>\n",
       "      <td>Bailey</td>\n",
       "      <td>60614</td>\n",
       "    </tr>\n",
       "    <tr>\n",
       "      <th>18</th>\n",
       "      <td>Poodle</td>\n",
       "      <td>Mixed</td>\n",
       "      <td>Lucy</td>\n",
       "      <td>90210</td>\n",
       "    </tr>\n",
       "  </tbody>\n",
       "</table>\n",
       "</div>"
      ],
      "text/plain": [
       "        Breed  Color DogName  OwnerZip\n",
       "14  Chihuahua   Gray    Lucy      2139\n",
       "15    Bulldog  Black   Bella     33101\n",
       "16    Bulldog   Gray   Rocky     98101\n",
       "17    Bulldog  Mixed  Bailey     60614\n",
       "18     Poodle  Mixed    Lucy     90210"
      ]
     },
     "execution_count": 29,
     "metadata": {},
     "output_type": "execute_result"
    }
   ],
   "source": [
    "p5.tail()"
   ]
  },
  {
   "cell_type": "code",
   "execution_count": 30,
   "id": "fcaa3c97-9693-4825-a752-163aea2de1c1",
   "metadata": {},
   "outputs": [
    {
     "data": {
      "text/html": [
       "<div>\n",
       "<style scoped>\n",
       "    .dataframe tbody tr th:only-of-type {\n",
       "        vertical-align: middle;\n",
       "    }\n",
       "\n",
       "    .dataframe tbody tr th {\n",
       "        vertical-align: top;\n",
       "    }\n",
       "\n",
       "    .dataframe thead th {\n",
       "        text-align: right;\n",
       "    }\n",
       "</style>\n",
       "<table border=\"1\" class=\"dataframe\">\n",
       "  <thead>\n",
       "    <tr style=\"text-align: right;\">\n",
       "      <th></th>\n",
       "      <th>Breed</th>\n",
       "      <th>Color</th>\n",
       "      <th>DogName</th>\n",
       "      <th>OwnerZip</th>\n",
       "    </tr>\n",
       "  </thead>\n",
       "  <tbody>\n",
       "    <tr>\n",
       "      <th>11</th>\n",
       "      <td>Bulldog</td>\n",
       "      <td>Gray</td>\n",
       "      <td>Rocky</td>\n",
       "      <td>30303</td>\n",
       "    </tr>\n",
       "    <tr>\n",
       "      <th>12</th>\n",
       "      <td>Chihuahua</td>\n",
       "      <td>White</td>\n",
       "      <td>Bailey</td>\n",
       "      <td>10001</td>\n",
       "    </tr>\n",
       "    <tr>\n",
       "      <th>13</th>\n",
       "      <td>Chihuahua</td>\n",
       "      <td>Cream</td>\n",
       "      <td>Lucy</td>\n",
       "      <td>10001</td>\n",
       "    </tr>\n",
       "    <tr>\n",
       "      <th>14</th>\n",
       "      <td>Chihuahua</td>\n",
       "      <td>Gray</td>\n",
       "      <td>Lucy</td>\n",
       "      <td>2139</td>\n",
       "    </tr>\n",
       "    <tr>\n",
       "      <th>15</th>\n",
       "      <td>Bulldog</td>\n",
       "      <td>Black</td>\n",
       "      <td>Bella</td>\n",
       "      <td>33101</td>\n",
       "    </tr>\n",
       "    <tr>\n",
       "      <th>16</th>\n",
       "      <td>Bulldog</td>\n",
       "      <td>Gray</td>\n",
       "      <td>Rocky</td>\n",
       "      <td>98101</td>\n",
       "    </tr>\n",
       "    <tr>\n",
       "      <th>17</th>\n",
       "      <td>Bulldog</td>\n",
       "      <td>Mixed</td>\n",
       "      <td>Bailey</td>\n",
       "      <td>60614</td>\n",
       "    </tr>\n",
       "    <tr>\n",
       "      <th>18</th>\n",
       "      <td>Poodle</td>\n",
       "      <td>Mixed</td>\n",
       "      <td>Lucy</td>\n",
       "      <td>90210</td>\n",
       "    </tr>\n",
       "  </tbody>\n",
       "</table>\n",
       "</div>"
      ],
      "text/plain": [
       "        Breed  Color DogName  OwnerZip\n",
       "11    Bulldog   Gray   Rocky     30303\n",
       "12  Chihuahua  White  Bailey     10001\n",
       "13  Chihuahua  Cream    Lucy     10001\n",
       "14  Chihuahua   Gray    Lucy      2139\n",
       "15    Bulldog  Black   Bella     33101\n",
       "16    Bulldog   Gray   Rocky     98101\n",
       "17    Bulldog  Mixed  Bailey     60614\n",
       "18     Poodle  Mixed    Lucy     90210"
      ]
     },
     "execution_count": 30,
     "metadata": {},
     "output_type": "execute_result"
    }
   ],
   "source": [
    "p5.tail(8)"
   ]
  },
  {
   "cell_type": "code",
   "execution_count": 31,
   "id": "b90e4710-a563-41de-8fc4-ab903e85e90b",
   "metadata": {},
   "outputs": [
    {
     "name": "stdout",
     "output_type": "stream",
     "text": [
      "<class 'pandas.core.frame.DataFrame'>\n",
      "RangeIndex: 19 entries, 0 to 18\n",
      "Data columns (total 4 columns):\n",
      " #   Column    Non-Null Count  Dtype \n",
      "---  ------    --------------  ----- \n",
      " 0   Breed     19 non-null     object\n",
      " 1   Color     19 non-null     object\n",
      " 2   DogName   19 non-null     object\n",
      " 3   OwnerZip  19 non-null     int64 \n",
      "dtypes: int64(1), object(3)\n",
      "memory usage: 740.0+ bytes\n"
     ]
    }
   ],
   "source": [
    "p5.info()"
   ]
  },
  {
   "cell_type": "code",
   "execution_count": 32,
   "id": "5ad5c5b7-809b-4392-89fc-7cd18bce1fe8",
   "metadata": {},
   "outputs": [
    {
     "data": {
      "text/plain": [
       "(19, 4)"
      ]
     },
     "execution_count": 32,
     "metadata": {},
     "output_type": "execute_result"
    }
   ],
   "source": [
    "p5.shape"
   ]
  },
  {
   "cell_type": "code",
   "execution_count": 34,
   "id": "8e8238d9-e5cc-415c-a462-b637ac714b8d",
   "metadata": {},
   "outputs": [
    {
     "data": {
      "text/plain": [
       "2"
      ]
     },
     "execution_count": 34,
     "metadata": {},
     "output_type": "execute_result"
    }
   ],
   "source": [
    "p5.ndim"
   ]
  },
  {
   "cell_type": "code",
   "execution_count": 36,
   "id": "2c8c7ade-bc49-4a64-9935-74b88c939906",
   "metadata": {},
   "outputs": [
    {
     "data": {
      "text/plain": [
       "Breed       object\n",
       "Color       object\n",
       "DogName     object\n",
       "OwnerZip     int64\n",
       "dtype: object"
      ]
     },
     "execution_count": 36,
     "metadata": {},
     "output_type": "execute_result"
    }
   ],
   "source": [
    "p5.dtypes"
   ]
  },
  {
   "cell_type": "code",
   "execution_count": 37,
   "id": "2598992c-c0c3-4ce3-9572-b663dd5e6a1f",
   "metadata": {},
   "outputs": [
    {
     "data": {
      "text/html": [
       "<div>\n",
       "<style scoped>\n",
       "    .dataframe tbody tr th:only-of-type {\n",
       "        vertical-align: middle;\n",
       "    }\n",
       "\n",
       "    .dataframe tbody tr th {\n",
       "        vertical-align: top;\n",
       "    }\n",
       "\n",
       "    .dataframe thead th {\n",
       "        text-align: right;\n",
       "    }\n",
       "</style>\n",
       "<table border=\"1\" class=\"dataframe\">\n",
       "  <thead>\n",
       "    <tr style=\"text-align: right;\">\n",
       "      <th></th>\n",
       "      <th>OwnerZip</th>\n",
       "    </tr>\n",
       "  </thead>\n",
       "  <tbody>\n",
       "    <tr>\n",
       "      <th>count</th>\n",
       "      <td>19.000000</td>\n",
       "    </tr>\n",
       "    <tr>\n",
       "      <th>mean</th>\n",
       "      <td>55900.526316</td>\n",
       "    </tr>\n",
       "    <tr>\n",
       "      <th>std</th>\n",
       "      <td>35643.053040</td>\n",
       "    </tr>\n",
       "    <tr>\n",
       "      <th>min</th>\n",
       "      <td>2139.000000</td>\n",
       "    </tr>\n",
       "    <tr>\n",
       "      <th>25%</th>\n",
       "      <td>31702.000000</td>\n",
       "    </tr>\n",
       "    <tr>\n",
       "      <th>50%</th>\n",
       "      <td>33101.000000</td>\n",
       "    </tr>\n",
       "    <tr>\n",
       "      <th>75%</th>\n",
       "      <td>90210.000000</td>\n",
       "    </tr>\n",
       "    <tr>\n",
       "      <th>max</th>\n",
       "      <td>98101.000000</td>\n",
       "    </tr>\n",
       "  </tbody>\n",
       "</table>\n",
       "</div>"
      ],
      "text/plain": [
       "           OwnerZip\n",
       "count     19.000000\n",
       "mean   55900.526316\n",
       "std    35643.053040\n",
       "min     2139.000000\n",
       "25%    31702.000000\n",
       "50%    33101.000000\n",
       "75%    90210.000000\n",
       "max    98101.000000"
      ]
     },
     "execution_count": 37,
     "metadata": {},
     "output_type": "execute_result"
    }
   ],
   "source": [
    "p5.describe()"
   ]
  },
  {
   "cell_type": "code",
   "execution_count": 39,
   "id": "b4e7452b-0191-4853-b3f7-4bfee90d9649",
   "metadata": {},
   "outputs": [
    {
     "data": {
      "text/plain": [
       "count          19\n",
       "unique          6\n",
       "top       Bulldog\n",
       "freq            5\n",
       "Name: Breed, dtype: object"
      ]
     },
     "execution_count": 39,
     "metadata": {},
     "output_type": "execute_result"
    }
   ],
   "source": [
    "p5['Breed'].describe()"
   ]
  },
  {
   "cell_type": "code",
   "execution_count": 41,
   "id": "b985762e-debd-44a6-b52e-77cb764e9b02",
   "metadata": {},
   "outputs": [
    {
     "data": {
      "text/plain": [
       "count        19\n",
       "unique        6\n",
       "top       Mixed\n",
       "freq          7\n",
       "Name: Color, dtype: object"
      ]
     },
     "execution_count": 41,
     "metadata": {},
     "output_type": "execute_result"
    }
   ],
   "source": [
    "p5['Color'].describe()"
   ]
  },
  {
   "cell_type": "code",
   "execution_count": 43,
   "id": "2b02c76e-72fd-4f55-a511-5151c08c592b",
   "metadata": {},
   "outputs": [
    {
     "data": {
      "text/plain": [
       "count         19\n",
       "unique         9\n",
       "top       Bailey\n",
       "freq           3\n",
       "Name: DogName, dtype: object"
      ]
     },
     "execution_count": 43,
     "metadata": {},
     "output_type": "execute_result"
    }
   ],
   "source": [
    "p5['DogName'].describe()"
   ]
  },
  {
   "cell_type": "code",
   "execution_count": 44,
   "id": "13e22843-9c7d-475d-b2c5-9d1cdbf906a6",
   "metadata": {},
   "outputs": [
    {
     "data": {
      "text/plain": [
       "0       Molly\n",
       "1      Bailey\n",
       "2       Bella\n",
       "3       Molly\n",
       "4     Charlie\n",
       "5       Buddy\n",
       "6         Max\n",
       "7       Sadie\n",
       "8     Charlie\n",
       "9       Rocky\n",
       "10      Sadie\n",
       "11      Rocky\n",
       "12     Bailey\n",
       "13       Lucy\n",
       "14       Lucy\n",
       "15      Bella\n",
       "16      Rocky\n",
       "17     Bailey\n",
       "18       Lucy\n",
       "Name: DogName, dtype: object"
      ]
     },
     "execution_count": 44,
     "metadata": {},
     "output_type": "execute_result"
    }
   ],
   "source": [
    "p5['DogName']"
   ]
  },
  {
   "cell_type": "code",
   "execution_count": 45,
   "id": "dd538d14-bf41-413a-88f4-f610f7354274",
   "metadata": {},
   "outputs": [
    {
     "data": {
      "text/plain": [
       "0       Molly\n",
       "1      Bailey\n",
       "2       Bella\n",
       "3       Molly\n",
       "4     Charlie\n",
       "5       Buddy\n",
       "6         Max\n",
       "7       Sadie\n",
       "8     Charlie\n",
       "9       Rocky\n",
       "10      Sadie\n",
       "11      Rocky\n",
       "12     Bailey\n",
       "13       Lucy\n",
       "14       Lucy\n",
       "15      Bella\n",
       "16      Rocky\n",
       "17     Bailey\n",
       "18       Lucy\n",
       "Name: DogName, dtype: object"
      ]
     },
     "execution_count": 45,
     "metadata": {},
     "output_type": "execute_result"
    }
   ],
   "source": [
    "p5.DogName"
   ]
  },
  {
   "cell_type": "code",
   "execution_count": 50,
   "id": "24b74155-a915-4469-a6c8-ac2610858c41",
   "metadata": {},
   "outputs": [
    {
     "data": {
      "text/html": [
       "<div>\n",
       "<style scoped>\n",
       "    .dataframe tbody tr th:only-of-type {\n",
       "        vertical-align: middle;\n",
       "    }\n",
       "\n",
       "    .dataframe tbody tr th {\n",
       "        vertical-align: top;\n",
       "    }\n",
       "\n",
       "    .dataframe thead th {\n",
       "        text-align: right;\n",
       "    }\n",
       "</style>\n",
       "<table border=\"1\" class=\"dataframe\">\n",
       "  <thead>\n",
       "    <tr style=\"text-align: right;\">\n",
       "      <th></th>\n",
       "      <th>Breed</th>\n",
       "      <th>Color</th>\n",
       "      <th>DogName</th>\n",
       "      <th>OwnerZip</th>\n",
       "    </tr>\n",
       "  </thead>\n",
       "  <tbody>\n",
       "    <tr>\n",
       "      <th>0</th>\n",
       "      <td>Beagle</td>\n",
       "      <td>Black</td>\n",
       "      <td>Molly</td>\n",
       "      <td>30303</td>\n",
       "    </tr>\n",
       "    <tr>\n",
       "      <th>1</th>\n",
       "      <td>Poodle</td>\n",
       "      <td>Mixed</td>\n",
       "      <td>Bailey</td>\n",
       "      <td>98101</td>\n",
       "    </tr>\n",
       "    <tr>\n",
       "      <th>2</th>\n",
       "      <td>Poodle</td>\n",
       "      <td>Mixed</td>\n",
       "      <td>Bella</td>\n",
       "      <td>98101</td>\n",
       "    </tr>\n",
       "    <tr>\n",
       "      <th>3</th>\n",
       "      <td>Poodle</td>\n",
       "      <td>Black</td>\n",
       "      <td>Molly</td>\n",
       "      <td>90210</td>\n",
       "    </tr>\n",
       "    <tr>\n",
       "      <th>4</th>\n",
       "      <td>Beagle</td>\n",
       "      <td>Brown</td>\n",
       "      <td>Charlie</td>\n",
       "      <td>33101</td>\n",
       "    </tr>\n",
       "    <tr>\n",
       "      <th>5</th>\n",
       "      <td>Labrador</td>\n",
       "      <td>Mixed</td>\n",
       "      <td>Buddy</td>\n",
       "      <td>90210</td>\n",
       "    </tr>\n",
       "    <tr>\n",
       "      <th>6</th>\n",
       "      <td>Labrador</td>\n",
       "      <td>White</td>\n",
       "      <td>Max</td>\n",
       "      <td>98101</td>\n",
       "    </tr>\n",
       "    <tr>\n",
       "      <th>7</th>\n",
       "      <td>Bulldog</td>\n",
       "      <td>Mixed</td>\n",
       "      <td>Sadie</td>\n",
       "      <td>90210</td>\n",
       "    </tr>\n",
       "    <tr>\n",
       "      <th>8</th>\n",
       "      <td>Chihuahua</td>\n",
       "      <td>Cream</td>\n",
       "      <td>Charlie</td>\n",
       "      <td>33101</td>\n",
       "    </tr>\n",
       "  </tbody>\n",
       "</table>\n",
       "</div>"
      ],
      "text/plain": [
       "       Breed  Color  DogName  OwnerZip\n",
       "0     Beagle  Black    Molly     30303\n",
       "1     Poodle  Mixed   Bailey     98101\n",
       "2     Poodle  Mixed    Bella     98101\n",
       "3     Poodle  Black    Molly     90210\n",
       "4     Beagle  Brown  Charlie     33101\n",
       "5   Labrador  Mixed    Buddy     90210\n",
       "6   Labrador  White      Max     98101\n",
       "7    Bulldog  Mixed    Sadie     90210\n",
       "8  Chihuahua  Cream  Charlie     33101"
      ]
     },
     "execution_count": 50,
     "metadata": {},
     "output_type": "execute_result"
    }
   ],
   "source": [
    "p5.iloc[:9,[0,1,2,3]]"
   ]
  },
  {
   "cell_type": "code",
   "execution_count": 51,
   "id": "a9a86ac0-2d3e-4776-9be8-d409be15b9ef",
   "metadata": {},
   "outputs": [
    {
     "data": {
      "text/html": [
       "<div>\n",
       "<style scoped>\n",
       "    .dataframe tbody tr th:only-of-type {\n",
       "        vertical-align: middle;\n",
       "    }\n",
       "\n",
       "    .dataframe tbody tr th {\n",
       "        vertical-align: top;\n",
       "    }\n",
       "\n",
       "    .dataframe thead th {\n",
       "        text-align: right;\n",
       "    }\n",
       "</style>\n",
       "<table border=\"1\" class=\"dataframe\">\n",
       "  <thead>\n",
       "    <tr style=\"text-align: right;\">\n",
       "      <th></th>\n",
       "      <th>Breed</th>\n",
       "      <th>Color</th>\n",
       "      <th>DogName</th>\n",
       "      <th>OwnerZip</th>\n",
       "    </tr>\n",
       "  </thead>\n",
       "  <tbody>\n",
       "    <tr>\n",
       "      <th>0</th>\n",
       "      <td>COCKAPOO</td>\n",
       "      <td>BROWN</td>\n",
       "      <td>CHARLEY</td>\n",
       "      <td>15236</td>\n",
       "    </tr>\n",
       "    <tr>\n",
       "      <th>1</th>\n",
       "      <td>GER SHEPHERD</td>\n",
       "      <td>BLACK/BROWN</td>\n",
       "      <td>TACODA</td>\n",
       "      <td>15238</td>\n",
       "    </tr>\n",
       "    <tr>\n",
       "      <th>2</th>\n",
       "      <td>BELG MALINOIS</td>\n",
       "      <td>BRINDLE</td>\n",
       "      <td>EICH</td>\n",
       "      <td>15238</td>\n",
       "    </tr>\n",
       "    <tr>\n",
       "      <th>3</th>\n",
       "      <td>MIXED</td>\n",
       "      <td>BLACK/BROWN</td>\n",
       "      <td>ARROW</td>\n",
       "      <td>15104</td>\n",
       "    </tr>\n",
       "    <tr>\n",
       "      <th>4</th>\n",
       "      <td>AM PIT BULL TERRIER</td>\n",
       "      <td>WHITE/BROWN</td>\n",
       "      <td>OAKLEY</td>\n",
       "      <td>15139</td>\n",
       "    </tr>\n",
       "    <tr>\n",
       "      <th>...</th>\n",
       "      <td>...</td>\n",
       "      <td>...</td>\n",
       "      <td>...</td>\n",
       "      <td>...</td>\n",
       "    </tr>\n",
       "    <tr>\n",
       "      <th>2665</th>\n",
       "      <td>GOLDENDOODLE</td>\n",
       "      <td>BROWN</td>\n",
       "      <td>WINSLOW</td>\n",
       "      <td>15044</td>\n",
       "    </tr>\n",
       "    <tr>\n",
       "      <th>2666</th>\n",
       "      <td>YORKSHIRE TERRIER</td>\n",
       "      <td>BLACK/BROWN</td>\n",
       "      <td>ROCKY KALAKOS</td>\n",
       "      <td>15220</td>\n",
       "    </tr>\n",
       "    <tr>\n",
       "      <th>2667</th>\n",
       "      <td>LAB MIX</td>\n",
       "      <td>WHITE/BLACK/BROWN</td>\n",
       "      <td>ELLIE</td>\n",
       "      <td>15220</td>\n",
       "    </tr>\n",
       "    <tr>\n",
       "      <th>2668</th>\n",
       "      <td>GOLDENDOODLE</td>\n",
       "      <td>WHITE</td>\n",
       "      <td>CLARENCE</td>\n",
       "      <td>15143</td>\n",
       "    </tr>\n",
       "    <tr>\n",
       "      <th>2669</th>\n",
       "      <td>SHETLAND SHEEPDOG</td>\n",
       "      <td>BLACK</td>\n",
       "      <td>GRIFFIN</td>\n",
       "      <td>15136</td>\n",
       "    </tr>\n",
       "  </tbody>\n",
       "</table>\n",
       "<p>2670 rows × 4 columns</p>\n",
       "</div>"
      ],
      "text/plain": [
       "                    Breed              Color        DogName  OwnerZip\n",
       "0                COCKAPOO              BROWN        CHARLEY     15236\n",
       "1            GER SHEPHERD        BLACK/BROWN         TACODA     15238\n",
       "2           BELG MALINOIS            BRINDLE           EICH     15238\n",
       "3                   MIXED        BLACK/BROWN          ARROW     15104\n",
       "4     AM PIT BULL TERRIER        WHITE/BROWN         OAKLEY     15139\n",
       "...                   ...                ...            ...       ...\n",
       "2665         GOLDENDOODLE              BROWN        WINSLOW     15044\n",
       "2666    YORKSHIRE TERRIER        BLACK/BROWN  ROCKY KALAKOS     15220\n",
       "2667              LAB MIX  WHITE/BLACK/BROWN          ELLIE     15220\n",
       "2668         GOLDENDOODLE              WHITE       CLARENCE     15143\n",
       "2669    SHETLAND SHEEPDOG              BLACK        GRIFFIN     15136\n",
       "\n",
       "[2670 rows x 4 columns]"
      ]
     },
     "execution_count": 51,
     "metadata": {},
     "output_type": "execute_result"
    }
   ],
   "source": [
    "p6=pd.read_csv(\"dog_data1.csv\")\n",
    "p6"
   ]
  },
  {
   "cell_type": "code",
   "execution_count": 52,
   "id": "ba1c95d1-b5d5-452f-a9ae-8f1dc755ba76",
   "metadata": {},
   "outputs": [
    {
     "data": {
      "text/plain": [
       "Color\n",
       "BLACK                   371\n",
       "BROWN                   309\n",
       "WHITE                   226\n",
       "WHITE/BLACK             196\n",
       "BLACK/BROWN             183\n",
       "                       ... \n",
       "BLACK/ORANGE/BRINDLE      1\n",
       "BROWN/ORANGE              1\n",
       "BROWN/FAWN                1\n",
       "BLACK/BROWN/GREY          1\n",
       "BROWN/LIVER               1\n",
       "Name: count, Length: 72, dtype: int64"
      ]
     },
     "execution_count": 52,
     "metadata": {},
     "output_type": "execute_result"
    }
   ],
   "source": [
    "p6['Color'].value_counts()"
   ]
  },
  {
   "cell_type": "code",
   "execution_count": 53,
   "id": "c43efd55-102c-4b79-a8ee-9f6b0cc95736",
   "metadata": {},
   "outputs": [
    {
     "data": {
      "text/plain": [
       "Color\n",
       "BROWN/LIVER               1\n",
       "BROWN/FAWN                1\n",
       "BROWN/ORANGE              1\n",
       "BLACK/ORANGE/BRINDLE      1\n",
       "BLACK/BROWN/GREY          1\n",
       "                       ... \n",
       "BLACK/BROWN             183\n",
       "WHITE/BLACK             196\n",
       "WHITE                   226\n",
       "BROWN                   309\n",
       "BLACK                   371\n",
       "Name: count, Length: 72, dtype: int64"
      ]
     },
     "execution_count": 53,
     "metadata": {},
     "output_type": "execute_result"
    }
   ],
   "source": [
    "p6['Color'].value_counts(ascending=True)"
   ]
  },
  {
   "cell_type": "code",
   "execution_count": 54,
   "id": "6860c058-f064-420c-9601-f1aea50ae40c",
   "metadata": {},
   "outputs": [
    {
     "data": {
      "text/plain": [
       "DogName\n",
       "LUCY       35\n",
       "BELLA      30\n",
       "BAILEY     29\n",
       "BUDDY      29\n",
       "DAISY      26\n",
       "           ..\n",
       "CHOOKIE     1\n",
       "AMY         1\n",
       "DEE DEE     1\n",
       "KAYLIE      1\n",
       "GRIFFIN     1\n",
       "Name: count, Length: 1428, dtype: int64"
      ]
     },
     "execution_count": 54,
     "metadata": {},
     "output_type": "execute_result"
    }
   ],
   "source": [
    "p6['DogName'].value_counts()"
   ]
  },
  {
   "cell_type": "code",
   "execution_count": 56,
   "id": "e4e54393-f484-4497-b439-c6e58901bad7",
   "metadata": {},
   "outputs": [
    {
     "data": {
      "text/plain": [
       "DogName\n",
       "LUCY       35\n",
       "BELLA      30\n",
       "BAILEY     29\n",
       "BUDDY      29\n",
       "DAISY      26\n",
       "           ..\n",
       "RAMBO       1\n",
       "CHOOKIE     1\n",
       "AMY         1\n",
       "DEE DEE     1\n",
       "GRIFFIN     1\n",
       "Name: count, Length: 1429, dtype: int64"
      ]
     },
     "execution_count": 56,
     "metadata": {},
     "output_type": "execute_result"
    }
   ],
   "source": [
    "p6['DogName'].value_counts(dropna=False)"
   ]
  },
  {
   "cell_type": "code",
   "execution_count": 57,
   "id": "1f25fe9b-320d-4011-855c-5f0d907d2acf",
   "metadata": {},
   "outputs": [
    {
     "data": {
      "text/plain": [
       "Color\n",
       "BLACK                   0.139212\n",
       "BROWN                   0.115947\n",
       "WHITE                   0.084803\n",
       "WHITE/BLACK             0.073546\n",
       "BLACK/BROWN             0.068668\n",
       "                          ...   \n",
       "BLACK/ORANGE/BRINDLE    0.000375\n",
       "BROWN/ORANGE            0.000375\n",
       "BROWN/FAWN              0.000375\n",
       "BLACK/BROWN/GREY        0.000375\n",
       "BROWN/LIVER             0.000375\n",
       "Name: proportion, Length: 72, dtype: float64"
      ]
     },
     "execution_count": 57,
     "metadata": {},
     "output_type": "execute_result"
    }
   ],
   "source": [
    "p6['Color'].value_counts(normalize=True)"
   ]
  },
  {
   "cell_type": "code",
   "execution_count": 59,
   "id": "47fc4f43-13c5-41f6-80ff-f255633003d8",
   "metadata": {},
   "outputs": [
    {
     "data": {
      "text/plain": [
       "226"
      ]
     },
     "execution_count": 59,
     "metadata": {},
     "output_type": "execute_result"
    }
   ],
   "source": [
    "p6['Color'].value_counts()['WHITE']"
   ]
  },
  {
   "cell_type": "code",
   "execution_count": 62,
   "id": "88ef12fb-42e4-4590-9692-c77680634b1c",
   "metadata": {},
   "outputs": [
    {
     "data": {
      "text/plain": [
       "Color\n",
       "APRICOT              15\n",
       "BEIGE                 5\n",
       "BLACK               371\n",
       "BLACK WITH WHITE     21\n",
       "BLACK/BRINDLE         5\n",
       "                   ... \n",
       "WHITE/ORANGE          5\n",
       "WHITE/RED            14\n",
       "WHITE/TAN            50\n",
       "WHITE/YELLOW          2\n",
       "YELLOW               51\n",
       "Length: 72, dtype: int64"
      ]
     },
     "execution_count": 62,
     "metadata": {},
     "output_type": "execute_result"
    }
   ],
   "source": [
    "p6.groupby('Color').size()"
   ]
  },
  {
   "cell_type": "code",
   "execution_count": 63,
   "id": "112b28b3-5a63-41f2-aca3-bfae41d18b3f",
   "metadata": {},
   "outputs": [
    {
     "data": {
      "text/html": [
       "<div>\n",
       "<style scoped>\n",
       "    .dataframe tbody tr th:only-of-type {\n",
       "        vertical-align: middle;\n",
       "    }\n",
       "\n",
       "    .dataframe tbody tr th {\n",
       "        vertical-align: top;\n",
       "    }\n",
       "\n",
       "    .dataframe thead th {\n",
       "        text-align: right;\n",
       "    }\n",
       "</style>\n",
       "<table border=\"1\" class=\"dataframe\">\n",
       "  <thead>\n",
       "    <tr style=\"text-align: right;\">\n",
       "      <th></th>\n",
       "      <th>Breed</th>\n",
       "      <th>DogName</th>\n",
       "      <th>OwnerZip</th>\n",
       "    </tr>\n",
       "    <tr>\n",
       "      <th>Color</th>\n",
       "      <th></th>\n",
       "      <th></th>\n",
       "      <th></th>\n",
       "    </tr>\n",
       "  </thead>\n",
       "  <tbody>\n",
       "    <tr>\n",
       "      <th>APRICOT</th>\n",
       "      <td>15</td>\n",
       "      <td>15</td>\n",
       "      <td>15</td>\n",
       "    </tr>\n",
       "    <tr>\n",
       "      <th>BEIGE</th>\n",
       "      <td>5</td>\n",
       "      <td>5</td>\n",
       "      <td>5</td>\n",
       "    </tr>\n",
       "    <tr>\n",
       "      <th>BLACK</th>\n",
       "      <td>371</td>\n",
       "      <td>371</td>\n",
       "      <td>371</td>\n",
       "    </tr>\n",
       "    <tr>\n",
       "      <th>BLACK WITH WHITE</th>\n",
       "      <td>21</td>\n",
       "      <td>21</td>\n",
       "      <td>21</td>\n",
       "    </tr>\n",
       "    <tr>\n",
       "      <th>BLACK/BRINDLE</th>\n",
       "      <td>5</td>\n",
       "      <td>5</td>\n",
       "      <td>5</td>\n",
       "    </tr>\n",
       "    <tr>\n",
       "      <th>...</th>\n",
       "      <td>...</td>\n",
       "      <td>...</td>\n",
       "      <td>...</td>\n",
       "    </tr>\n",
       "    <tr>\n",
       "      <th>WHITE/ORANGE</th>\n",
       "      <td>5</td>\n",
       "      <td>5</td>\n",
       "      <td>5</td>\n",
       "    </tr>\n",
       "    <tr>\n",
       "      <th>WHITE/RED</th>\n",
       "      <td>14</td>\n",
       "      <td>14</td>\n",
       "      <td>14</td>\n",
       "    </tr>\n",
       "    <tr>\n",
       "      <th>WHITE/TAN</th>\n",
       "      <td>50</td>\n",
       "      <td>50</td>\n",
       "      <td>50</td>\n",
       "    </tr>\n",
       "    <tr>\n",
       "      <th>WHITE/YELLOW</th>\n",
       "      <td>2</td>\n",
       "      <td>2</td>\n",
       "      <td>2</td>\n",
       "    </tr>\n",
       "    <tr>\n",
       "      <th>YELLOW</th>\n",
       "      <td>51</td>\n",
       "      <td>51</td>\n",
       "      <td>51</td>\n",
       "    </tr>\n",
       "  </tbody>\n",
       "</table>\n",
       "<p>72 rows × 3 columns</p>\n",
       "</div>"
      ],
      "text/plain": [
       "                  Breed  DogName  OwnerZip\n",
       "Color                                     \n",
       "APRICOT              15       15        15\n",
       "BEIGE                 5        5         5\n",
       "BLACK               371      371       371\n",
       "BLACK WITH WHITE     21       21        21\n",
       "BLACK/BRINDLE         5        5         5\n",
       "...                 ...      ...       ...\n",
       "WHITE/ORANGE          5        5         5\n",
       "WHITE/RED            14       14        14\n",
       "WHITE/TAN            50       50        50\n",
       "WHITE/YELLOW          2        2         2\n",
       "YELLOW               51       51        51\n",
       "\n",
       "[72 rows x 3 columns]"
      ]
     },
     "execution_count": 63,
     "metadata": {},
     "output_type": "execute_result"
    }
   ],
   "source": [
    "p6.groupby('Color').count()"
   ]
  },
  {
   "cell_type": "code",
   "execution_count": 72,
   "id": "98c6abcd-545d-48c3-b331-73ce20c9f801",
   "metadata": {},
   "outputs": [
    {
     "name": "stderr",
     "output_type": "stream",
     "text": [
      "C:\\Users\\dhine\\AppData\\Local\\Temp\\ipykernel_27040\\2520933634.py:1: FutureWarning: pandas.value_counts is deprecated and will be removed in a future version. Use pd.Series(obj).value_counts() instead.\n",
      "  p6.apply(pd.value_counts)\n",
      "C:\\Users\\dhine\\AppData\\Local\\Temp\\ipykernel_27040\\2520933634.py:1: FutureWarning: pandas.value_counts is deprecated and will be removed in a future version. Use pd.Series(obj).value_counts() instead.\n",
      "  p6.apply(pd.value_counts)\n",
      "C:\\Users\\dhine\\AppData\\Local\\Temp\\ipykernel_27040\\2520933634.py:1: FutureWarning: pandas.value_counts is deprecated and will be removed in a future version. Use pd.Series(obj).value_counts() instead.\n",
      "  p6.apply(pd.value_counts)\n",
      "C:\\Users\\dhine\\AppData\\Local\\Temp\\ipykernel_27040\\2520933634.py:1: FutureWarning: pandas.value_counts is deprecated and will be removed in a future version. Use pd.Series(obj).value_counts() instead.\n",
      "  p6.apply(pd.value_counts)\n"
     ]
    },
    {
     "ename": "TypeError",
     "evalue": "'<' not supported between instances of 'int' and 'str'",
     "output_type": "error",
     "traceback": [
      "\u001b[1;31m---------------------------------------------------------------------------\u001b[0m",
      "\u001b[1;31mTypeError\u001b[0m                                 Traceback (most recent call last)",
      "Cell \u001b[1;32mIn[72], line 1\u001b[0m\n\u001b[1;32m----> 1\u001b[0m p6\u001b[38;5;241m.\u001b[39mapply(pd\u001b[38;5;241m.\u001b[39mvalue_counts)\n",
      "File \u001b[1;32mD:\\InstalledApps\\AnacondaNavigator\\Lib\\site-packages\\pandas\\core\\frame.py:10374\u001b[0m, in \u001b[0;36mDataFrame.apply\u001b[1;34m(self, func, axis, raw, result_type, args, by_row, engine, engine_kwargs, **kwargs)\u001b[0m\n\u001b[0;32m  10360\u001b[0m \u001b[38;5;28;01mfrom\u001b[39;00m \u001b[38;5;21;01mpandas\u001b[39;00m\u001b[38;5;21;01m.\u001b[39;00m\u001b[38;5;21;01mcore\u001b[39;00m\u001b[38;5;21;01m.\u001b[39;00m\u001b[38;5;21;01mapply\u001b[39;00m \u001b[38;5;28;01mimport\u001b[39;00m frame_apply\n\u001b[0;32m  10362\u001b[0m op \u001b[38;5;241m=\u001b[39m frame_apply(\n\u001b[0;32m  10363\u001b[0m     \u001b[38;5;28mself\u001b[39m,\n\u001b[0;32m  10364\u001b[0m     func\u001b[38;5;241m=\u001b[39mfunc,\n\u001b[1;32m   (...)\u001b[0m\n\u001b[0;32m  10372\u001b[0m     kwargs\u001b[38;5;241m=\u001b[39mkwargs,\n\u001b[0;32m  10373\u001b[0m )\n\u001b[1;32m> 10374\u001b[0m \u001b[38;5;28;01mreturn\u001b[39;00m op\u001b[38;5;241m.\u001b[39mapply()\u001b[38;5;241m.\u001b[39m__finalize__(\u001b[38;5;28mself\u001b[39m, method\u001b[38;5;241m=\u001b[39m\u001b[38;5;124m\"\u001b[39m\u001b[38;5;124mapply\u001b[39m\u001b[38;5;124m\"\u001b[39m)\n",
      "File \u001b[1;32mD:\\InstalledApps\\AnacondaNavigator\\Lib\\site-packages\\pandas\\core\\apply.py:916\u001b[0m, in \u001b[0;36mFrameApply.apply\u001b[1;34m(self)\u001b[0m\n\u001b[0;32m    913\u001b[0m \u001b[38;5;28;01melif\u001b[39;00m \u001b[38;5;28mself\u001b[39m\u001b[38;5;241m.\u001b[39mraw:\n\u001b[0;32m    914\u001b[0m     \u001b[38;5;28;01mreturn\u001b[39;00m \u001b[38;5;28mself\u001b[39m\u001b[38;5;241m.\u001b[39mapply_raw(engine\u001b[38;5;241m=\u001b[39m\u001b[38;5;28mself\u001b[39m\u001b[38;5;241m.\u001b[39mengine, engine_kwargs\u001b[38;5;241m=\u001b[39m\u001b[38;5;28mself\u001b[39m\u001b[38;5;241m.\u001b[39mengine_kwargs)\n\u001b[1;32m--> 916\u001b[0m \u001b[38;5;28;01mreturn\u001b[39;00m \u001b[38;5;28mself\u001b[39m\u001b[38;5;241m.\u001b[39mapply_standard()\n",
      "File \u001b[1;32mD:\\InstalledApps\\AnacondaNavigator\\Lib\\site-packages\\pandas\\core\\apply.py:1068\u001b[0m, in \u001b[0;36mFrameApply.apply_standard\u001b[1;34m(self)\u001b[0m\n\u001b[0;32m   1065\u001b[0m     results, res_index \u001b[38;5;241m=\u001b[39m \u001b[38;5;28mself\u001b[39m\u001b[38;5;241m.\u001b[39mapply_series_numba()\n\u001b[0;32m   1067\u001b[0m \u001b[38;5;66;03m# wrap results\u001b[39;00m\n\u001b[1;32m-> 1068\u001b[0m \u001b[38;5;28;01mreturn\u001b[39;00m \u001b[38;5;28mself\u001b[39m\u001b[38;5;241m.\u001b[39mwrap_results(results, res_index)\n",
      "File \u001b[1;32mD:\\InstalledApps\\AnacondaNavigator\\Lib\\site-packages\\pandas\\core\\apply.py:1107\u001b[0m, in \u001b[0;36mFrameApply.wrap_results\u001b[1;34m(self, results, res_index)\u001b[0m\n\u001b[0;32m   1105\u001b[0m \u001b[38;5;66;03m# see if we can infer the results\u001b[39;00m\n\u001b[0;32m   1106\u001b[0m \u001b[38;5;28;01mif\u001b[39;00m \u001b[38;5;28mlen\u001b[39m(results) \u001b[38;5;241m>\u001b[39m \u001b[38;5;241m0\u001b[39m \u001b[38;5;129;01mand\u001b[39;00m \u001b[38;5;241m0\u001b[39m \u001b[38;5;129;01min\u001b[39;00m results \u001b[38;5;129;01mand\u001b[39;00m is_sequence(results[\u001b[38;5;241m0\u001b[39m]):\n\u001b[1;32m-> 1107\u001b[0m     \u001b[38;5;28;01mreturn\u001b[39;00m \u001b[38;5;28mself\u001b[39m\u001b[38;5;241m.\u001b[39mwrap_results_for_axis(results, res_index)\n\u001b[0;32m   1109\u001b[0m \u001b[38;5;66;03m# dict of scalars\u001b[39;00m\n\u001b[0;32m   1110\u001b[0m \n\u001b[0;32m   1111\u001b[0m \u001b[38;5;66;03m# the default dtype of an empty Series is `object`, but this\u001b[39;00m\n\u001b[0;32m   1112\u001b[0m \u001b[38;5;66;03m# code can be hit by df.mean() where the result should have dtype\u001b[39;00m\n\u001b[0;32m   1113\u001b[0m \u001b[38;5;66;03m# float64 even if it's an empty Series.\u001b[39;00m\n\u001b[0;32m   1114\u001b[0m constructor_sliced \u001b[38;5;241m=\u001b[39m \u001b[38;5;28mself\u001b[39m\u001b[38;5;241m.\u001b[39mobj\u001b[38;5;241m.\u001b[39m_constructor_sliced\n",
      "File \u001b[1;32mD:\\InstalledApps\\AnacondaNavigator\\Lib\\site-packages\\pandas\\core\\apply.py:1219\u001b[0m, in \u001b[0;36mFrameRowApply.wrap_results_for_axis\u001b[1;34m(self, results, res_index)\u001b[0m\n\u001b[0;32m   1216\u001b[0m     \u001b[38;5;28;01mreturn\u001b[39;00m res\n\u001b[0;32m   1218\u001b[0m \u001b[38;5;28;01mtry\u001b[39;00m:\n\u001b[1;32m-> 1219\u001b[0m     result \u001b[38;5;241m=\u001b[39m \u001b[38;5;28mself\u001b[39m\u001b[38;5;241m.\u001b[39mobj\u001b[38;5;241m.\u001b[39m_constructor(data\u001b[38;5;241m=\u001b[39mresults)\n\u001b[0;32m   1220\u001b[0m \u001b[38;5;28;01mexcept\u001b[39;00m \u001b[38;5;167;01mValueError\u001b[39;00m \u001b[38;5;28;01mas\u001b[39;00m err:\n\u001b[0;32m   1221\u001b[0m     \u001b[38;5;28;01mif\u001b[39;00m \u001b[38;5;124m\"\u001b[39m\u001b[38;5;124mAll arrays must be of the same length\u001b[39m\u001b[38;5;124m\"\u001b[39m \u001b[38;5;129;01min\u001b[39;00m \u001b[38;5;28mstr\u001b[39m(err):\n\u001b[0;32m   1222\u001b[0m         \u001b[38;5;66;03m# e.g. result = [[2, 3], [1.5], ['foo', 'bar']]\u001b[39;00m\n\u001b[0;32m   1223\u001b[0m         \u001b[38;5;66;03m#  see test_agg_listlike_result GH#29587\u001b[39;00m\n",
      "File \u001b[1;32mD:\\InstalledApps\\AnacondaNavigator\\Lib\\site-packages\\pandas\\core\\frame.py:778\u001b[0m, in \u001b[0;36mDataFrame.__init__\u001b[1;34m(self, data, index, columns, dtype, copy)\u001b[0m\n\u001b[0;32m    772\u001b[0m     mgr \u001b[38;5;241m=\u001b[39m \u001b[38;5;28mself\u001b[39m\u001b[38;5;241m.\u001b[39m_init_mgr(\n\u001b[0;32m    773\u001b[0m         data, axes\u001b[38;5;241m=\u001b[39m{\u001b[38;5;124m\"\u001b[39m\u001b[38;5;124mindex\u001b[39m\u001b[38;5;124m\"\u001b[39m: index, \u001b[38;5;124m\"\u001b[39m\u001b[38;5;124mcolumns\u001b[39m\u001b[38;5;124m\"\u001b[39m: columns}, dtype\u001b[38;5;241m=\u001b[39mdtype, copy\u001b[38;5;241m=\u001b[39mcopy\n\u001b[0;32m    774\u001b[0m     )\n\u001b[0;32m    776\u001b[0m \u001b[38;5;28;01melif\u001b[39;00m \u001b[38;5;28misinstance\u001b[39m(data, \u001b[38;5;28mdict\u001b[39m):\n\u001b[0;32m    777\u001b[0m     \u001b[38;5;66;03m# GH#38939 de facto copy defaults to False only in non-dict cases\u001b[39;00m\n\u001b[1;32m--> 778\u001b[0m     mgr \u001b[38;5;241m=\u001b[39m dict_to_mgr(data, index, columns, dtype\u001b[38;5;241m=\u001b[39mdtype, copy\u001b[38;5;241m=\u001b[39mcopy, typ\u001b[38;5;241m=\u001b[39mmanager)\n\u001b[0;32m    779\u001b[0m \u001b[38;5;28;01melif\u001b[39;00m \u001b[38;5;28misinstance\u001b[39m(data, ma\u001b[38;5;241m.\u001b[39mMaskedArray):\n\u001b[0;32m    780\u001b[0m     \u001b[38;5;28;01mfrom\u001b[39;00m \u001b[38;5;21;01mnumpy\u001b[39;00m\u001b[38;5;21;01m.\u001b[39;00m\u001b[38;5;21;01mma\u001b[39;00m \u001b[38;5;28;01mimport\u001b[39;00m mrecords\n",
      "File \u001b[1;32mD:\\InstalledApps\\AnacondaNavigator\\Lib\\site-packages\\pandas\\core\\internals\\construction.py:503\u001b[0m, in \u001b[0;36mdict_to_mgr\u001b[1;34m(data, index, columns, dtype, typ, copy)\u001b[0m\n\u001b[0;32m    499\u001b[0m     \u001b[38;5;28;01melse\u001b[39;00m:\n\u001b[0;32m    500\u001b[0m         \u001b[38;5;66;03m# dtype check to exclude e.g. range objects, scalars\u001b[39;00m\n\u001b[0;32m    501\u001b[0m         arrays \u001b[38;5;241m=\u001b[39m [x\u001b[38;5;241m.\u001b[39mcopy() \u001b[38;5;28;01mif\u001b[39;00m \u001b[38;5;28mhasattr\u001b[39m(x, \u001b[38;5;124m\"\u001b[39m\u001b[38;5;124mdtype\u001b[39m\u001b[38;5;124m\"\u001b[39m) \u001b[38;5;28;01melse\u001b[39;00m x \u001b[38;5;28;01mfor\u001b[39;00m x \u001b[38;5;129;01min\u001b[39;00m arrays]\n\u001b[1;32m--> 503\u001b[0m \u001b[38;5;28;01mreturn\u001b[39;00m arrays_to_mgr(arrays, columns, index, dtype\u001b[38;5;241m=\u001b[39mdtype, typ\u001b[38;5;241m=\u001b[39mtyp, consolidate\u001b[38;5;241m=\u001b[39mcopy)\n",
      "File \u001b[1;32mD:\\InstalledApps\\AnacondaNavigator\\Lib\\site-packages\\pandas\\core\\internals\\construction.py:114\u001b[0m, in \u001b[0;36marrays_to_mgr\u001b[1;34m(arrays, columns, index, dtype, verify_integrity, typ, consolidate)\u001b[0m\n\u001b[0;32m    111\u001b[0m \u001b[38;5;28;01mif\u001b[39;00m verify_integrity:\n\u001b[0;32m    112\u001b[0m     \u001b[38;5;66;03m# figure out the index, if necessary\u001b[39;00m\n\u001b[0;32m    113\u001b[0m     \u001b[38;5;28;01mif\u001b[39;00m index \u001b[38;5;129;01mis\u001b[39;00m \u001b[38;5;28;01mNone\u001b[39;00m:\n\u001b[1;32m--> 114\u001b[0m         index \u001b[38;5;241m=\u001b[39m _extract_index(arrays)\n\u001b[0;32m    115\u001b[0m     \u001b[38;5;28;01melse\u001b[39;00m:\n\u001b[0;32m    116\u001b[0m         index \u001b[38;5;241m=\u001b[39m ensure_index(index)\n",
      "File \u001b[1;32mD:\\InstalledApps\\AnacondaNavigator\\Lib\\site-packages\\pandas\\core\\internals\\construction.py:670\u001b[0m, in \u001b[0;36m_extract_index\u001b[1;34m(data)\u001b[0m\n\u001b[0;32m    667\u001b[0m     \u001b[38;5;28;01mraise\u001b[39;00m \u001b[38;5;167;01mValueError\u001b[39;00m(\u001b[38;5;124m\"\u001b[39m\u001b[38;5;124mIf using all scalar values, you must pass an index\u001b[39m\u001b[38;5;124m\"\u001b[39m)\n\u001b[0;32m    669\u001b[0m \u001b[38;5;28;01mif\u001b[39;00m have_series:\n\u001b[1;32m--> 670\u001b[0m     index \u001b[38;5;241m=\u001b[39m union_indexes(indexes)\n\u001b[0;32m    671\u001b[0m \u001b[38;5;28;01melif\u001b[39;00m have_dicts:\n\u001b[0;32m    672\u001b[0m     index \u001b[38;5;241m=\u001b[39m union_indexes(indexes, sort\u001b[38;5;241m=\u001b[39m\u001b[38;5;28;01mFalse\u001b[39;00m)\n",
      "File \u001b[1;32mD:\\InstalledApps\\AnacondaNavigator\\Lib\\site-packages\\pandas\\core\\indexes\\api.py:319\u001b[0m, in \u001b[0;36munion_indexes\u001b[1;34m(indexes, sort)\u001b[0m\n\u001b[0;32m    317\u001b[0m index \u001b[38;5;241m=\u001b[39m indexes[\u001b[38;5;241m0\u001b[39m]\n\u001b[0;32m    318\u001b[0m \u001b[38;5;28;01mif\u001b[39;00m \u001b[38;5;129;01mnot\u001b[39;00m \u001b[38;5;28mall\u001b[39m(index\u001b[38;5;241m.\u001b[39mequals(other) \u001b[38;5;28;01mfor\u001b[39;00m other \u001b[38;5;129;01min\u001b[39;00m indexes[\u001b[38;5;241m1\u001b[39m:]):\n\u001b[1;32m--> 319\u001b[0m     index \u001b[38;5;241m=\u001b[39m _unique_indices(indexes, dtype)\n\u001b[0;32m    321\u001b[0m name \u001b[38;5;241m=\u001b[39m get_unanimous_names(\u001b[38;5;241m*\u001b[39mindexes)[\u001b[38;5;241m0\u001b[39m]\n\u001b[0;32m    322\u001b[0m \u001b[38;5;28;01mif\u001b[39;00m name \u001b[38;5;241m!=\u001b[39m index\u001b[38;5;241m.\u001b[39mname:\n",
      "File \u001b[1;32mD:\\InstalledApps\\AnacondaNavigator\\Lib\\site-packages\\pandas\\core\\indexes\\api.py:252\u001b[0m, in \u001b[0;36munion_indexes.<locals>._unique_indices\u001b[1;34m(inds, dtype)\u001b[0m\n\u001b[0;32m    250\u001b[0m         result \u001b[38;5;241m=\u001b[39m result\u001b[38;5;241m.\u001b[39mappend(diff\u001b[38;5;241m.\u001b[39munique())\n\u001b[0;32m    251\u001b[0m     \u001b[38;5;28;01mif\u001b[39;00m sort:\n\u001b[1;32m--> 252\u001b[0m         result \u001b[38;5;241m=\u001b[39m result\u001b[38;5;241m.\u001b[39msort_values()\n\u001b[0;32m    253\u001b[0m     \u001b[38;5;28;01mreturn\u001b[39;00m result\n\u001b[0;32m    255\u001b[0m \u001b[38;5;28;01mdef\u001b[39;00m \u001b[38;5;21mconv\u001b[39m(i):\n",
      "File \u001b[1;32mD:\\InstalledApps\\AnacondaNavigator\\Lib\\site-packages\\pandas\\util\\_decorators.py:333\u001b[0m, in \u001b[0;36mdeprecate_nonkeyword_arguments.<locals>.decorate.<locals>.wrapper\u001b[1;34m(*args, **kwargs)\u001b[0m\n\u001b[0;32m    327\u001b[0m \u001b[38;5;28;01mif\u001b[39;00m \u001b[38;5;28mlen\u001b[39m(args) \u001b[38;5;241m>\u001b[39m num_allow_args:\n\u001b[0;32m    328\u001b[0m     warnings\u001b[38;5;241m.\u001b[39mwarn(\n\u001b[0;32m    329\u001b[0m         msg\u001b[38;5;241m.\u001b[39mformat(arguments\u001b[38;5;241m=\u001b[39m_format_argument_list(allow_args)),\n\u001b[0;32m    330\u001b[0m         \u001b[38;5;167;01mFutureWarning\u001b[39;00m,\n\u001b[0;32m    331\u001b[0m         stacklevel\u001b[38;5;241m=\u001b[39mfind_stack_level(),\n\u001b[0;32m    332\u001b[0m     )\n\u001b[1;32m--> 333\u001b[0m \u001b[38;5;28;01mreturn\u001b[39;00m func(\u001b[38;5;241m*\u001b[39margs, \u001b[38;5;241m*\u001b[39m\u001b[38;5;241m*\u001b[39mkwargs)\n",
      "File \u001b[1;32mD:\\InstalledApps\\AnacondaNavigator\\Lib\\site-packages\\pandas\\core\\indexes\\base.py:5932\u001b[0m, in \u001b[0;36mIndex.sort_values\u001b[1;34m(self, return_indexer, ascending, na_position, key)\u001b[0m\n\u001b[0;32m   5929\u001b[0m \u001b[38;5;66;03m# GH 35584. Sort missing values according to na_position kwarg\u001b[39;00m\n\u001b[0;32m   5930\u001b[0m \u001b[38;5;66;03m# ignore na_position for MultiIndex\u001b[39;00m\n\u001b[0;32m   5931\u001b[0m \u001b[38;5;28;01mif\u001b[39;00m \u001b[38;5;129;01mnot\u001b[39;00m \u001b[38;5;28misinstance\u001b[39m(\u001b[38;5;28mself\u001b[39m, ABCMultiIndex):\n\u001b[1;32m-> 5932\u001b[0m     _as \u001b[38;5;241m=\u001b[39m nargsort(\n\u001b[0;32m   5933\u001b[0m         items\u001b[38;5;241m=\u001b[39m\u001b[38;5;28mself\u001b[39m, ascending\u001b[38;5;241m=\u001b[39mascending, na_position\u001b[38;5;241m=\u001b[39mna_position, key\u001b[38;5;241m=\u001b[39mkey\n\u001b[0;32m   5934\u001b[0m     )\n\u001b[0;32m   5935\u001b[0m \u001b[38;5;28;01melse\u001b[39;00m:\n\u001b[0;32m   5936\u001b[0m     idx \u001b[38;5;241m=\u001b[39m cast(Index, ensure_key_mapped(\u001b[38;5;28mself\u001b[39m, key))\n",
      "File \u001b[1;32mD:\\InstalledApps\\AnacondaNavigator\\Lib\\site-packages\\pandas\\core\\sorting.py:439\u001b[0m, in \u001b[0;36mnargsort\u001b[1;34m(items, kind, ascending, na_position, key, mask)\u001b[0m\n\u001b[0;32m    437\u001b[0m     non_nans \u001b[38;5;241m=\u001b[39m non_nans[::\u001b[38;5;241m-\u001b[39m\u001b[38;5;241m1\u001b[39m]\n\u001b[0;32m    438\u001b[0m     non_nan_idx \u001b[38;5;241m=\u001b[39m non_nan_idx[::\u001b[38;5;241m-\u001b[39m\u001b[38;5;241m1\u001b[39m]\n\u001b[1;32m--> 439\u001b[0m indexer \u001b[38;5;241m=\u001b[39m non_nan_idx[non_nans\u001b[38;5;241m.\u001b[39margsort(kind\u001b[38;5;241m=\u001b[39mkind)]\n\u001b[0;32m    440\u001b[0m \u001b[38;5;28;01mif\u001b[39;00m \u001b[38;5;129;01mnot\u001b[39;00m ascending:\n\u001b[0;32m    441\u001b[0m     indexer \u001b[38;5;241m=\u001b[39m indexer[::\u001b[38;5;241m-\u001b[39m\u001b[38;5;241m1\u001b[39m]\n",
      "\u001b[1;31mTypeError\u001b[0m: '<' not supported between instances of 'int' and 'str'"
     ]
    }
   ],
   "source": [
    "p6.apply(pd.value_counts)"
   ]
  },
  {
   "cell_type": "code",
   "execution_count": null,
   "id": "41dfe95a-fccc-40af-91ed-9283c371b713",
   "metadata": {},
   "outputs": [],
   "source": []
  }
 ],
 "metadata": {
  "kernelspec": {
   "display_name": "Python 3 (ipykernel)",
   "language": "python",
   "name": "python3"
  },
  "language_info": {
   "codemirror_mode": {
    "name": "ipython",
    "version": 3
   },
   "file_extension": ".py",
   "mimetype": "text/x-python",
   "name": "python",
   "nbconvert_exporter": "python",
   "pygments_lexer": "ipython3",
   "version": "3.12.7"
  }
 },
 "nbformat": 4,
 "nbformat_minor": 5
}
